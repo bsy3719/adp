{
 "cells": [
  {
   "cell_type": "markdown",
   "id": "50a492a2-8efc-49a9-ab38-ca6baf0b3b7d",
   "metadata": {},
   "source": [
    "# 평균검정 \n",
    "1. 단일표본검정\n",
    "2. 두 독립표본의 검정\n",
    "3. 짝지어진 표본의 검정  "
   ]
  },
  {
   "cell_type": "markdown",
   "id": "35c0b70b-d486-41ca-b8f6-b0fae57cac04",
   "metadata": {},
   "source": [
    "## 단일표본 평균 검정(One sample T-test)\n",
    "25마리 게의 체온을 측정한 데이터가 아래와 같을 때, 게의 평균 체온이 24.3도 라고 할 수 있는지 검정해보자\n",
    "- 귀무가설 : 게의 평균 체온은 24.3도이다.\n",
    "- 대립가설 : 게의 평균 체온은 24.3도가 아니다."
   ]
  },
  {
   "cell_type": "code",
   "execution_count": 1,
   "id": "40dad4c5-348b-483d-aea8-28bfc2eb557d",
   "metadata": {},
   "outputs": [],
   "source": [
    "crab = [25.8, 24.6, 26.1, 22.9, 25.1, 27.3, 24.0, 24.5, 23.9, 26.2,\n",
    "       24.3, 24.6, 23.3, 25.5, 28.1, 24.8, 23.5, 26.3, 25.4, 25.5,\n",
    "       23.9, 27.0, 24.8, 22.9, 25.4]"
   ]
  },
  {
   "cell_type": "code",
   "execution_count": 2,
   "id": "baac8312-58ee-4b3f-906c-f0a358d40679",
   "metadata": {},
   "outputs": [],
   "source": [
    "import pandas as pd"
   ]
  },
  {
   "cell_type": "code",
   "execution_count": 4,
   "id": "ef503ca2-f89f-4eea-b429-f65441aef4da",
   "metadata": {},
   "outputs": [
    {
     "data": {
      "text/html": [
       "<div>\n",
       "<style scoped>\n",
       "    .dataframe tbody tr th:only-of-type {\n",
       "        vertical-align: middle;\n",
       "    }\n",
       "\n",
       "    .dataframe tbody tr th {\n",
       "        vertical-align: top;\n",
       "    }\n",
       "\n",
       "    .dataframe thead th {\n",
       "        text-align: right;\n",
       "    }\n",
       "</style>\n",
       "<table border=\"1\" class=\"dataframe\">\n",
       "  <thead>\n",
       "    <tr style=\"text-align: right;\">\n",
       "      <th></th>\n",
       "      <th>0</th>\n",
       "    </tr>\n",
       "  </thead>\n",
       "  <tbody>\n",
       "    <tr>\n",
       "      <th>0</th>\n",
       "      <td>25.8</td>\n",
       "    </tr>\n",
       "    <tr>\n",
       "      <th>1</th>\n",
       "      <td>24.6</td>\n",
       "    </tr>\n",
       "    <tr>\n",
       "      <th>2</th>\n",
       "      <td>26.1</td>\n",
       "    </tr>\n",
       "    <tr>\n",
       "      <th>3</th>\n",
       "      <td>22.9</td>\n",
       "    </tr>\n",
       "    <tr>\n",
       "      <th>4</th>\n",
       "      <td>25.1</td>\n",
       "    </tr>\n",
       "  </tbody>\n",
       "</table>\n",
       "</div>"
      ],
      "text/plain": [
       "      0\n",
       "0  25.8\n",
       "1  24.6\n",
       "2  26.1\n",
       "3  22.9\n",
       "4  25.1"
      ]
     },
     "execution_count": 4,
     "metadata": {},
     "output_type": "execute_result"
    }
   ],
   "source": [
    "crab_df = pd.DataFrame(crab)\n",
    "\n",
    "crab_df.head()"
   ]
  },
  {
   "cell_type": "code",
   "execution_count": 5,
   "id": "c5e74905-4bac-470b-a8f7-d39772c8fef6",
   "metadata": {},
   "outputs": [
    {
     "name": "stdout",
     "output_type": "stream",
     "text": [
      "T-value = 2.713, p-value = 0.012\n"
     ]
    }
   ],
   "source": [
    "from scipy import stats\n",
    "crab_test = stats.ttest_1samp(crab, 24.3)\n",
    "print(\"T-value = %.3f, p-value = %.3f\" % crab_test)"
   ]
  },
  {
   "cell_type": "markdown",
   "id": "4101e075-e012-45c0-b187-94a04c88cb39",
   "metadata": {},
   "source": [
    "p-value가 0.012로 0.05보다 작기 떄문에 귀무가설을 기각합니다.  \n",
    "즉, 게의 평균 체온이 24.3도라고 할 수 없습니다."
   ]
  },
  {
   "cell_type": "code",
   "execution_count": null,
   "id": "37165cf5-e4af-4e8f-9bbd-c705a426634f",
   "metadata": {},
   "outputs": [],
   "source": []
  }
 ],
 "metadata": {
  "kernelspec": {
   "display_name": "adp",
   "language": "python",
   "name": "adp"
  },
  "language_info": {
   "codemirror_mode": {
    "name": "ipython",
    "version": 3
   },
   "file_extension": ".py",
   "mimetype": "text/x-python",
   "name": "python",
   "nbconvert_exporter": "python",
   "pygments_lexer": "ipython3",
   "version": "3.7.10"
  }
 },
 "nbformat": 4,
 "nbformat_minor": 5
}
