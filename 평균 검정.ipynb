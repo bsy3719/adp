{
 "cells": [
  {
   "cell_type": "markdown",
   "id": "50a492a2-8efc-49a9-ab38-ca6baf0b3b7d",
   "metadata": {},
   "source": [
    "# 평균검정 \n",
    "1. 단일표본검정\n",
    "2. 두 독립표본의 검정\n",
    "3. 짝지어진 표본의 검정  "
   ]
  },
  {
   "cell_type": "markdown",
   "id": "35c0b70b-d486-41ca-b8f6-b0fae57cac04",
   "metadata": {},
   "source": [
    "## 단일표본 평균 검정(One sample T-test)\n",
    "25마리 게의 체온을 측정한 데이터가 아래와 같을 때, 게의 평균 체온이 24.3도 라고 할 수 있는지 검정해보자\n",
    "- 귀무가설 : 게의 평균 체온은 24.3도이다.\n",
    "- 대립가설 : 게의 평균 체온은 24.3도가 아니다."
   ]
  },
  {
   "cell_type": "code",
   "execution_count": 3,
   "id": "40dad4c5-348b-483d-aea8-28bfc2eb557d",
   "metadata": {},
   "outputs": [],
   "source": [
    "crab = [25.8, 24.6, 26.1, 22.9, 25.1, 27.3, 24.0, 24.5, 23.9, 26.2,\n",
    "       24.3, 24.6, 23.3, 25.5, 28.1, 24.8, 23.5, 26.3, 25.4, 25.5,\n",
    "       23.9, 27.0, 24.8, 22.9, 25.4]"
   ]
  },
  {
   "cell_type": "code",
   "execution_count": 3,
   "id": "baac8312-58ee-4b3f-906c-f0a358d40679",
   "metadata": {},
   "outputs": [],
   "source": [
    "import pandas as pd"
   ]
  },
  {
   "cell_type": "code",
   "execution_count": 5,
   "id": "ef503ca2-f89f-4eea-b429-f65441aef4da",
   "metadata": {},
   "outputs": [
    {
     "data": {
      "text/html": [
       "<div>\n",
       "<style scoped>\n",
       "    .dataframe tbody tr th:only-of-type {\n",
       "        vertical-align: middle;\n",
       "    }\n",
       "\n",
       "    .dataframe tbody tr th {\n",
       "        vertical-align: top;\n",
       "    }\n",
       "\n",
       "    .dataframe thead th {\n",
       "        text-align: right;\n",
       "    }\n",
       "</style>\n",
       "<table border=\"1\" class=\"dataframe\">\n",
       "  <thead>\n",
       "    <tr style=\"text-align: right;\">\n",
       "      <th></th>\n",
       "      <th>0</th>\n",
       "    </tr>\n",
       "  </thead>\n",
       "  <tbody>\n",
       "    <tr>\n",
       "      <th>0</th>\n",
       "      <td>25.8</td>\n",
       "    </tr>\n",
       "    <tr>\n",
       "      <th>1</th>\n",
       "      <td>24.6</td>\n",
       "    </tr>\n",
       "    <tr>\n",
       "      <th>2</th>\n",
       "      <td>26.1</td>\n",
       "    </tr>\n",
       "    <tr>\n",
       "      <th>3</th>\n",
       "      <td>22.9</td>\n",
       "    </tr>\n",
       "    <tr>\n",
       "      <th>4</th>\n",
       "      <td>25.1</td>\n",
       "    </tr>\n",
       "  </tbody>\n",
       "</table>\n",
       "</div>"
      ],
      "text/plain": [
       "      0\n",
       "0  25.8\n",
       "1  24.6\n",
       "2  26.1\n",
       "3  22.9\n",
       "4  25.1"
      ]
     },
     "execution_count": 5,
     "metadata": {},
     "output_type": "execute_result"
    }
   ],
   "source": [
    "crab_df = pd.DataFrame(crab)\n",
    "\n",
    "crab_df.head()"
   ]
  },
  {
   "cell_type": "code",
   "execution_count": 6,
   "id": "c5e74905-4bac-470b-a8f7-d39772c8fef6",
   "metadata": {},
   "outputs": [
    {
     "name": "stdout",
     "output_type": "stream",
     "text": [
      "T-value = 2.713, p-value = 0.012\n"
     ]
    }
   ],
   "source": [
    "from scipy import stats\n",
    "crab_test = stats.ttest_1samp(crab, 24.3)\n",
    "print(\"T-value = %.3f, p-value = %.3f\" % crab_test)"
   ]
  },
  {
   "cell_type": "markdown",
   "id": "4101e075-e012-45c0-b187-94a04c88cb39",
   "metadata": {},
   "source": [
    "p-value가 0.012로 0.05보다 작기 떄문에 귀무가설을 기각합니다.  \n",
    "즉, 게의 평균 체온이 24.3도라고 할 수 없습니다."
   ]
  },
  {
   "cell_type": "markdown",
   "id": "6c4c2277-da67-44c2-b885-b05d55d60cfb",
   "metadata": {},
   "source": [
    "## 두 독립표본 평균 검정\n",
    "\n",
    "독립된 두 표본에서 추출한 그룹의 평균 차이를 검정하려면 두 그룹의 분산이 동일하다는 가설을  \n",
    "검정한 이후에 검정 결과에 따라 다르게 독립표본 t검정을 시행합니다.\n",
    "\n",
    "### 문제\n",
    "\n",
    "13명의 실험 참여자들을 대상으로 B와 G 두종류의 지혈제 효과를 측정한 자료이다.  \n",
    "이때 두 지혈제간의 지혈효과 차이가 있는지 검정해보자."
   ]
  },
  {
   "cell_type": "code",
   "execution_count": 4,
   "id": "b47cd425-e369-4ad7-b585-4f6a060cc155",
   "metadata": {},
   "outputs": [],
   "source": [
    "group = [\"b\",\"b\",\"b\",\"b\",\"b\",\"b\",\"g\",\"g\",\"g\",\"g\",\"g\",\"g\",\"g\",]\n",
    "time = [8.8,8.4,7.9,8.7,9.1,9.6,9.9,9.0,11.1,9.6,8.7,10.4,9.5]"
   ]
  },
  {
   "cell_type": "code",
   "execution_count": 5,
   "id": "e108fe04-a284-4713-a282-1f9c51d5bfc6",
   "metadata": {},
   "outputs": [
    {
     "data": {
      "text/html": [
       "<div>\n",
       "<style scoped>\n",
       "    .dataframe tbody tr th:only-of-type {\n",
       "        vertical-align: middle;\n",
       "    }\n",
       "\n",
       "    .dataframe tbody tr th {\n",
       "        vertical-align: top;\n",
       "    }\n",
       "\n",
       "    .dataframe thead th {\n",
       "        text-align: right;\n",
       "    }\n",
       "</style>\n",
       "<table border=\"1\" class=\"dataframe\">\n",
       "  <thead>\n",
       "    <tr style=\"text-align: right;\">\n",
       "      <th></th>\n",
       "      <th>group</th>\n",
       "      <th>time</th>\n",
       "    </tr>\n",
       "  </thead>\n",
       "  <tbody>\n",
       "    <tr>\n",
       "      <th>0</th>\n",
       "      <td>b</td>\n",
       "      <td>8.8</td>\n",
       "    </tr>\n",
       "    <tr>\n",
       "      <th>1</th>\n",
       "      <td>b</td>\n",
       "      <td>8.4</td>\n",
       "    </tr>\n",
       "    <tr>\n",
       "      <th>2</th>\n",
       "      <td>b</td>\n",
       "      <td>7.9</td>\n",
       "    </tr>\n",
       "    <tr>\n",
       "      <th>3</th>\n",
       "      <td>b</td>\n",
       "      <td>8.7</td>\n",
       "    </tr>\n",
       "    <tr>\n",
       "      <th>4</th>\n",
       "      <td>b</td>\n",
       "      <td>9.1</td>\n",
       "    </tr>\n",
       "  </tbody>\n",
       "</table>\n",
       "</div>"
      ],
      "text/plain": [
       "  group  time\n",
       "0     b   8.8\n",
       "1     b   8.4\n",
       "2     b   7.9\n",
       "3     b   8.7\n",
       "4     b   9.1"
      ]
     },
     "execution_count": 5,
     "metadata": {},
     "output_type": "execute_result"
    }
   ],
   "source": [
    "drug_df = pd.DataFrame(zip(group, time), columns=[\"group\", \"time\"])\n",
    "drug_df.head()"
   ]
  },
  {
   "cell_type": "code",
   "execution_count": 26,
   "id": "d0c04d27-df2a-4295-bd09-3dde89f30d06",
   "metadata": {},
   "outputs": [
    {
     "data": {
      "text/plain": [
       "Series([], Name: group, dtype: object)"
      ]
     },
     "execution_count": 26,
     "metadata": {},
     "output_type": "execute_result"
    }
   ],
   "source": [
    "g = drug_df[drug_df[\"time\"]==0][\"group\"]\n",
    "g"
   ]
  },
  {
   "cell_type": "code",
   "execution_count": 27,
   "id": "5cbd1ac6-b7b8-4d68-948b-e8dba5ccca60",
   "metadata": {},
   "outputs": [
    {
     "data": {
      "text/plain": [
       "(0,)"
      ]
     },
     "execution_count": 27,
     "metadata": {},
     "output_type": "execute_result"
    }
   ],
   "source": [
    "g.shape"
   ]
  },
  {
   "cell_type": "code",
   "execution_count": 29,
   "id": "a2af922d-012f-4d4a-90ca-0b26baaa6462",
   "metadata": {},
   "outputs": [
    {
     "data": {
      "text/plain": [
       "True"
      ]
     },
     "execution_count": 29,
     "metadata": {},
     "output_type": "execute_result"
    }
   ],
   "source": [
    "g.shape[0] == 0"
   ]
  },
  {
   "cell_type": "code",
   "execution_count": 20,
   "id": "5d599a6f-53ce-4099-925a-9171314508af",
   "metadata": {},
   "outputs": [
    {
     "data": {
      "text/plain": [
       "pandas.core.series.Series"
      ]
     },
     "execution_count": 20,
     "metadata": {},
     "output_type": "execute_result"
    }
   ],
   "source": [
    "type(g)"
   ]
  },
  {
   "cell_type": "code",
   "execution_count": 21,
   "id": "c9aee6dc-56fd-4ba0-84e8-dac36db5f824",
   "metadata": {},
   "outputs": [
    {
     "name": "stdout",
     "output_type": "stream",
     "text": [
      "Series([], Name: group, dtype: object)\n"
     ]
    }
   ],
   "source": [
    "if g.empty:\n",
    "    print(g)"
   ]
  },
  {
   "cell_type": "code",
   "execution_count": null,
   "id": "2a4eee42-b95a-4f7b-bcb3-1c1a5883b5f6",
   "metadata": {},
   "outputs": [],
   "source": [
    "from scipy import stats\n",
    "\n",
    "drugB = drug_df.loc[drug_df[\"group\"] == \"b\", \"time\"]\n",
    "drugG = drug_df.loc[drug_df[\"group\"] == \"g\", \"time\"]\n",
    "                    \n",
    "levene = stats.levene(drugB, drugG)\n",
    "\n",
    "print(\"LeveneResult(statisstic = %.3f, p-value = %.3f\" % levene)"
   ]
  },
  {
   "cell_type": "markdown",
   "id": "ec6ed605-5a97-4860-9c7c-4eaddf5c7509",
   "metadata": {},
   "source": [
    "p 값이 통상적인 기준인 0.1보다 크므로 두 그룹의 분산이 동일하다는 가정을 받아들입니다."
   ]
  },
  {
   "cell_type": "code",
   "execution_count": 16,
   "id": "5715694b-c80a-4d0f-b07f-e0eafd326492",
   "metadata": {},
   "outputs": [
    {
     "name": "stdout",
     "output_type": "stream",
     "text": [
      "Assuming equal variances : t-value = -2.476, p-value = 0.031\n"
     ]
    }
   ],
   "source": [
    "drug_ttest = stats.ttest_ind(drugB, drugG, equal_var = True)\n",
    "\n",
    "print(\"Assuming equal variances : t-value = %.3f, p-value = %.3f\" % drug_ttest)"
   ]
  },
  {
   "cell_type": "markdown",
   "id": "8ccdffba-3f8d-4aab-ad41-e26cd2b3423d",
   "metadata": {},
   "source": [
    "p-value의 값이 유의수준 0.05보다 작으므로 두 지혈제 간의 효과 차이가 없다는 귀무가설을 기각합니다.  \n",
    "즉, \"두 지혈제 간의 효과에는 유의한 차이가 있다\" 라고 해석 할 수 있습니다."
   ]
  },
  {
   "cell_type": "markdown",
   "id": "66dbf781-8946-40f3-bed8-8ca10bc533df",
   "metadata": {},
   "source": [
    "## 짝지어진 표본 평균 검정(Paired T-test)\n",
    "\n",
    "아래는 10명의 고혈압 환자에게 혈압 강하제 투여전 후의 혈압을 측정한 자료이다.  \n",
    "혈압 강하제의 효과가 있었는지를 검정해보자"
   ]
  },
  {
   "cell_type": "code",
   "execution_count": 17,
   "id": "c8f7230b-681a-403a-b40b-fb3929170915",
   "metadata": {},
   "outputs": [],
   "source": [
    "before = [142,140,144,144,142,146,149,150,142,148]\n",
    "after = [138,136,147,139,143,141,143,145,136,146]"
   ]
  },
  {
   "cell_type": "code",
   "execution_count": 18,
   "id": "f48f1ae3-df19-4ab7-9be5-b2e9b19579c7",
   "metadata": {},
   "outputs": [
    {
     "data": {
      "text/html": [
       "<div>\n",
       "<style scoped>\n",
       "    .dataframe tbody tr th:only-of-type {\n",
       "        vertical-align: middle;\n",
       "    }\n",
       "\n",
       "    .dataframe tbody tr th {\n",
       "        vertical-align: top;\n",
       "    }\n",
       "\n",
       "    .dataframe thead th {\n",
       "        text-align: right;\n",
       "    }\n",
       "</style>\n",
       "<table border=\"1\" class=\"dataframe\">\n",
       "  <thead>\n",
       "    <tr style=\"text-align: right;\">\n",
       "      <th></th>\n",
       "      <th>before</th>\n",
       "      <th>after</th>\n",
       "    </tr>\n",
       "  </thead>\n",
       "  <tbody>\n",
       "    <tr>\n",
       "      <th>0</th>\n",
       "      <td>142</td>\n",
       "      <td>138</td>\n",
       "    </tr>\n",
       "    <tr>\n",
       "      <th>1</th>\n",
       "      <td>140</td>\n",
       "      <td>136</td>\n",
       "    </tr>\n",
       "    <tr>\n",
       "      <th>2</th>\n",
       "      <td>144</td>\n",
       "      <td>147</td>\n",
       "    </tr>\n",
       "    <tr>\n",
       "      <th>3</th>\n",
       "      <td>144</td>\n",
       "      <td>139</td>\n",
       "    </tr>\n",
       "    <tr>\n",
       "      <th>4</th>\n",
       "      <td>142</td>\n",
       "      <td>143</td>\n",
       "    </tr>\n",
       "  </tbody>\n",
       "</table>\n",
       "</div>"
      ],
      "text/plain": [
       "   before  after\n",
       "0     142    138\n",
       "1     140    136\n",
       "2     144    147\n",
       "3     144    139\n",
       "4     142    143"
      ]
     },
     "execution_count": 18,
     "metadata": {},
     "output_type": "execute_result"
    }
   ],
   "source": [
    "pres_df = pd.DataFrame(zip(before, after), columns=[\"before\", \"after\"])\n",
    "pres_df.head()"
   ]
  },
  {
   "cell_type": "code",
   "execution_count": 20,
   "id": "96118175-47ab-4e04-9a20-eae7822b65b5",
   "metadata": {},
   "outputs": [
    {
     "name": "stdout",
     "output_type": "stream",
     "text": [
      "T-value = 3.414, p-value = 0.008\n"
     ]
    }
   ],
   "source": [
    "from scipy import stats\n",
    "pres_pttest = stats.ttest_rel(pres_df.before, pres_df.after)\n",
    "print(\"T-value = %.3f, p-value = %.3f\" %pres_pttest)"
   ]
  },
  {
   "cell_type": "markdown",
   "id": "91fb9932-183c-4a0e-8a83-82c1479f7a4c",
   "metadata": {},
   "source": [
    "p-value가 0.008로 유의수준 0.05보다 낮으므로 혈압 강하제의 효가가 없다는 귀무가설을 기각합니다.  \n",
    "즉, \"혈압 강하제는 혈압을 낮추는데  효과가 있다\" 라고 해석할 수 있습니다."
   ]
  },
  {
   "cell_type": "code",
   "execution_count": null,
   "id": "5be414d3-b2f4-411a-be32-5271c3b1a089",
   "metadata": {},
   "outputs": [],
   "source": []
  }
 ],
 "metadata": {
  "kernelspec": {
   "display_name": "adp",
   "language": "python",
   "name": "adp"
  },
  "language_info": {
   "codemirror_mode": {
    "name": "ipython",
    "version": 3
   },
   "file_extension": ".py",
   "mimetype": "text/x-python",
   "name": "python",
   "nbconvert_exporter": "python",
   "pygments_lexer": "ipython3",
   "version": "3.10.5"
  }
 },
 "nbformat": 4,
 "nbformat_minor": 5
}
