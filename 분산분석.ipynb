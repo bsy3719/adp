{
 "cells": [
  {
   "cell_type": "markdown",
   "id": "862b005e-fa6f-4609-984f-ce33a54ee5a4",
   "metadata": {},
   "source": [
    "# 분산분석"
   ]
  },
  {
   "cell_type": "markdown",
   "id": "e210e9c1-0ccb-422d-8be6-61118ec4db2d",
   "metadata": {},
   "source": [
    "## 일원분산분석(One-way ANOVA)\n",
    "일원분산분석은 반응값에 영향을 미치는 실험요인이 하나인 경우에  \n",
    "실험 요인의 각 수준간에 평균 차이가 있는지를 분석하는 방법입니다."
   ]
  },
  {
   "cell_type": "markdown",
   "id": "919014de-e985-486d-bfcf-ee8c59907c8d",
   "metadata": {},
   "source": [
    "### 문제\n",
    "이 데이터는 목화 함유량(pct)에 따라 변하는 섬유 장력(tensile)을 측정한 자료입니다.  \n",
    "이 떄 분산분석을 통해 목화 함유량에 따라 섬유 장력의 평균에 차이가 있는지,  \n",
    "각 함유량 간에도 장력의 유의한 차이가 있는지 확인할 수 있습니다."
   ]
  },
  {
   "cell_type": "code",
   "execution_count": 4,
   "id": "e58e2258-1241-4a34-94d0-6fee1f85e742",
   "metadata": {},
   "outputs": [],
   "source": [
    "import pandas as pd"
   ]
  },
  {
   "cell_type": "code",
   "execution_count": 15,
   "id": "00bc658b-3127-4133-86f9-ad8f52e55ae2",
   "metadata": {},
   "outputs": [],
   "source": [
    "pct = [15,15,15,15,15,\n",
    "         20,20,20,20,20,\n",
    "         25,25,25,25,25,\n",
    "         30,30,30,30,30,\n",
    "         35,35,35,35,35,]\n",
    "tensile = [7,7,15,11,9,\n",
    "           12,17,12,18,18,\n",
    "          14,18,18,19,19,\n",
    "          19,25,22,19,23,\n",
    "          7,10,11,15,11,]"
   ]
  },
  {
   "cell_type": "code",
   "execution_count": 16,
   "id": "4e247280-4828-41cc-bd53-1088462ed0ef",
   "metadata": {},
   "outputs": [
    {
     "data": {
      "text/html": [
       "<div>\n",
       "<style scoped>\n",
       "    .dataframe tbody tr th:only-of-type {\n",
       "        vertical-align: middle;\n",
       "    }\n",
       "\n",
       "    .dataframe tbody tr th {\n",
       "        vertical-align: top;\n",
       "    }\n",
       "\n",
       "    .dataframe thead th {\n",
       "        text-align: right;\n",
       "    }\n",
       "</style>\n",
       "<table border=\"1\" class=\"dataframe\">\n",
       "  <thead>\n",
       "    <tr style=\"text-align: right;\">\n",
       "      <th></th>\n",
       "      <th>pct</th>\n",
       "      <th>tensile</th>\n",
       "    </tr>\n",
       "  </thead>\n",
       "  <tbody>\n",
       "    <tr>\n",
       "      <th>0</th>\n",
       "      <td>15</td>\n",
       "      <td>7</td>\n",
       "    </tr>\n",
       "    <tr>\n",
       "      <th>1</th>\n",
       "      <td>15</td>\n",
       "      <td>7</td>\n",
       "    </tr>\n",
       "    <tr>\n",
       "      <th>2</th>\n",
       "      <td>15</td>\n",
       "      <td>15</td>\n",
       "    </tr>\n",
       "    <tr>\n",
       "      <th>3</th>\n",
       "      <td>15</td>\n",
       "      <td>11</td>\n",
       "    </tr>\n",
       "    <tr>\n",
       "      <th>4</th>\n",
       "      <td>15</td>\n",
       "      <td>9</td>\n",
       "    </tr>\n",
       "  </tbody>\n",
       "</table>\n",
       "</div>"
      ],
      "text/plain": [
       "   pct  tensile\n",
       "0   15        7\n",
       "1   15        7\n",
       "2   15       15\n",
       "3   15       11\n",
       "4   15        9"
      ]
     },
     "execution_count": 16,
     "metadata": {},
     "output_type": "execute_result"
    }
   ],
   "source": [
    "cotton_df = pd.DataFrame(zip(pct, tensile), columns=[\"pct\", \"tensile\"])\n",
    "cotton_df.head()"
   ]
  },
  {
   "cell_type": "markdown",
   "id": "7c262ba6-d75b-483b-ac9b-c4f0216992bd",
   "metadata": {},
   "source": [
    "파이썬에서 분산분석은 먼저 statsmodels 모듈의 ols 함수를 이용해  \n",
    "회귀식을 적합한다음 anova_lm() 함수로 구할 수 있습니다."
   ]
  },
  {
   "cell_type": "code",
   "execution_count": 17,
   "id": "8259a837-7508-4dfb-8e60-cdfaa7619229",
   "metadata": {},
   "outputs": [],
   "source": [
    "import statsmodels.formula.api as sm\n",
    "\n",
    "model = sm.ols(formula = \"tensile ~ C(pct)\", data=cotton_df).fit()"
   ]
  },
  {
   "cell_type": "code",
   "execution_count": 18,
   "id": "8ca9cb99-33d0-48bf-a08b-66e9c4af706c",
   "metadata": {},
   "outputs": [
    {
     "name": "stdout",
     "output_type": "stream",
     "text": [
      "            df  sum_sq  mean_sq          F    PR(>F)\n",
      "C(pct)     4.0  475.76   118.94  14.756824  0.000009\n",
      "Residual  20.0  161.20     8.06        NaN       NaN\n"
     ]
    }
   ],
   "source": [
    "from statsmodels.stats.anova import anova_lm\n",
    "\n",
    "print(anova_lm(model))"
   ]
  },
  {
   "cell_type": "markdown",
   "id": "a74bd653-2ab0-4b6b-8abf-47b5971fdce5",
   "metadata": {},
   "source": [
    "p-value가 0.000009로 메우 작으므로 섬유 장력의 평균이 목화 함유량에 따라  \n",
    "유의한 차이가 있다고 해석할 수 있습니다."
   ]
  },
  {
   "cell_type": "markdown",
   "id": "bf4d7880-6caf-46dd-8eb3-751b370376a2",
   "metadata": {},
   "source": [
    "목화 함유량 각 수준의 차이는 Tukey의 다중비교를 통해 확인할 수 있습니다.  \n",
    "함수는 statsmodels의 MultiComparison을 사용합니다."
   ]
  },
  {
   "cell_type": "code",
   "execution_count": 21,
   "id": "0e44ea52-66ec-4efa-a0e9-335742d6e437",
   "metadata": {},
   "outputs": [
    {
     "name": "stdout",
     "output_type": "stream",
     "text": [
      " Multiple Comparison of Means - Tukey HSD, FWER=0.05 \n",
      "=====================================================\n",
      "group1 group2 meandiff p-adj   lower    upper  reject\n",
      "-----------------------------------------------------\n",
      "    15     20      5.6 0.0385   0.2266 10.9734   True\n",
      "    15     25      7.8 0.0026   2.4266 13.1734   True\n",
      "    15     30     11.8  0.001   6.4266 17.1734   True\n",
      "    15     35      1.0    0.9  -4.3734  6.3734  False\n",
      "    20     25      2.2 0.7148  -3.1734  7.5734  False\n",
      "    20     30      6.2 0.0189   0.8266 11.5734   True\n",
      "    20     35     -4.6 0.1165  -9.9734  0.7734  False\n",
      "    25     30      4.0 0.2102  -1.3734  9.3734  False\n",
      "    25     35     -6.8 0.0091 -12.1734 -1.4266   True\n",
      "    30     35    -10.8  0.001 -16.1734 -5.4266   True\n",
      "-----------------------------------------------------\n"
     ]
    }
   ],
   "source": [
    "from statsmodels.stats.multicomp import MultiComparison\n",
    "\n",
    "mc = MultiComparison(cotton_df[\"tensile\"], cotton_df[\"pct\"])\n",
    "mc_tukey = mc.tukeyhsd()\n",
    "\n",
    "print(mc_tukey)"
   ]
  },
  {
   "cell_type": "markdown",
   "id": "7bf04cb3-893a-47d6-b257-641242dfa9f9",
   "metadata": {},
   "source": [
    "- meansdiff : 각 수준 간의 평균 차이값\n",
    "- p-adj : 평균 차이에 대한 유의확률 p값\n",
    "- lower, upper : 평균 차이의 95% 신뢰구간\n",
    "\n",
    "주요하게 확인할 것은 p-adj로 이 값이 0.05보다 작으면  \n",
    "수준 간의 평균 차이가 없다는 귀무가설이 기각됩니다.  \n",
    "따라서 15-20, 15-25, 15-30 등 평균에 유의한 차이가 있지만  \n",
    "15-35, 20-225 간에는 평균의 유의한 차이가 없음을 알 수 있습니다."
   ]
  },
  {
   "cell_type": "markdown",
   "id": "0f0c4c1d-5045-4deb-88d0-5219699b1fbc",
   "metadata": {},
   "source": [
    "## 이원분산분석(Two-way ANOVA)\n",
    "이원분산분석은 반응값에 영향을 미치는 실험요인이 2개인 경우의 분산분석 방법입니다.  \n",
    "아래의 데이터는 제조시 온도(temp)와 판유리 종류(glass) 별로  \n",
    "유리 강도(str)에 차이가 있는지를 3번 반복 측정한 데이터입니다."
   ]
  },
  {
   "cell_type": "code",
   "execution_count": 36,
   "id": "a2f7116f-7aa6-4f07-baa7-21c0ab1ab749",
   "metadata": {},
   "outputs": [],
   "source": [
    "glass = [x for x in range(1,4) for _ in range(9)]\n",
    "temp = [100,100,100,\n",
    "       125,125,125,\n",
    "       150,150,150]*3\n",
    "strength = [580,568,570,\n",
    "           1090,1087,1085,\n",
    "           1392,1380,1386,\n",
    "           550,530,579,\n",
    "           1070,1035,1000,\n",
    "           1328,1312,1299,\n",
    "           546,575,599,\n",
    "           1045,1053,1066,\n",
    "           867,904,889]"
   ]
  },
  {
   "cell_type": "code",
   "execution_count": 37,
   "id": "e3494401-4155-4ac0-b657-dac48b294340",
   "metadata": {},
   "outputs": [
    {
     "data": {
      "text/html": [
       "<div>\n",
       "<style scoped>\n",
       "    .dataframe tbody tr th:only-of-type {\n",
       "        vertical-align: middle;\n",
       "    }\n",
       "\n",
       "    .dataframe tbody tr th {\n",
       "        vertical-align: top;\n",
       "    }\n",
       "\n",
       "    .dataframe thead th {\n",
       "        text-align: right;\n",
       "    }\n",
       "</style>\n",
       "<table border=\"1\" class=\"dataframe\">\n",
       "  <thead>\n",
       "    <tr style=\"text-align: right;\">\n",
       "      <th></th>\n",
       "      <th>glass</th>\n",
       "      <th>temp</th>\n",
       "      <th>strength</th>\n",
       "    </tr>\n",
       "  </thead>\n",
       "  <tbody>\n",
       "    <tr>\n",
       "      <th>0</th>\n",
       "      <td>1</td>\n",
       "      <td>100</td>\n",
       "      <td>580</td>\n",
       "    </tr>\n",
       "    <tr>\n",
       "      <th>1</th>\n",
       "      <td>1</td>\n",
       "      <td>100</td>\n",
       "      <td>568</td>\n",
       "    </tr>\n",
       "    <tr>\n",
       "      <th>2</th>\n",
       "      <td>1</td>\n",
       "      <td>100</td>\n",
       "      <td>570</td>\n",
       "    </tr>\n",
       "    <tr>\n",
       "      <th>3</th>\n",
       "      <td>1</td>\n",
       "      <td>125</td>\n",
       "      <td>1090</td>\n",
       "    </tr>\n",
       "    <tr>\n",
       "      <th>4</th>\n",
       "      <td>1</td>\n",
       "      <td>125</td>\n",
       "      <td>1087</td>\n",
       "    </tr>\n",
       "  </tbody>\n",
       "</table>\n",
       "</div>"
      ],
      "text/plain": [
       "   glass  temp  strength\n",
       "0      1   100       580\n",
       "1      1   100       568\n",
       "2      1   100       570\n",
       "3      1   125      1090\n",
       "4      1   125      1087"
      ]
     },
     "execution_count": 37,
     "metadata": {},
     "output_type": "execute_result"
    }
   ],
   "source": [
    "glass_df = pd.DataFrame(zip(glass, temp, strength), columns=[\"glass\", \"temp\", \"strength\"])\n",
    "glass_df.head()"
   ]
  },
  {
   "cell_type": "code",
   "execution_count": 38,
   "id": "b66d24c8-31d8-4120-9df2-4e997ca880c0",
   "metadata": {},
   "outputs": [],
   "source": [
    "import statsmodels.formula.api as sm\n",
    "\n",
    "model = sm.ols(formula = \"strength ~ C(glass)*C(temp)\", data=glass_df).fit()"
   ]
  },
  {
   "cell_type": "code",
   "execution_count": 39,
   "id": "3c0938df-f5e5-4e94-a992-7bb750f48f4c",
   "metadata": {},
   "outputs": [
    {
     "name": "stdout",
     "output_type": "stream",
     "text": [
      "                    df        sum_sq        mean_sq            F        PR(>F)\n",
      "C(glass)           2.0  1.508645e+05   75432.259259   206.370554  3.886026e-13\n",
      "C(temp)            2.0  1.970335e+06  985167.259259  2695.259499  5.008957e-23\n",
      "C(glass):C(temp)   4.0  2.905517e+05   72637.925926   198.725707  1.254188e-14\n",
      "Residual          18.0  6.579333e+03     365.518519          NaN           NaN\n"
     ]
    }
   ],
   "source": [
    "from statsmodels.stats.anova import anova_lm\n",
    "\n",
    "print(anova_lm(model))"
   ]
  },
  {
   "cell_type": "markdown",
   "id": "a5e9bef4-bad1-4403-a718-d43eabb896f0",
   "metadata": {},
   "source": [
    "이원분산분석 결과가 출력되고  \n",
    "세 인자의 p-value값이 모두 0에 매우 가까워  \n",
    "유리 강도는 유리 종류와 온도에 유의한 차이가 생기고,  \n",
    "유리의 종류와 온도의 상호작용 효과도 유의하다는 것을 알 수 있습니다.  \n",
    "이 상호작용 효과를 확인하기 위해 그래프를 그려주면 다음과 같습니다."
   ]
  },
  {
   "cell_type": "code",
   "execution_count": 40,
   "id": "620d9c4c-45a0-4a28-9b5f-0ca7ad7fb507",
   "metadata": {},
   "outputs": [
    {
     "data": {
      "image/png": "[encoded data removed]",
      "text/plain": [
       "<Figure size 432x288 with 1 Axes>"
      ]
     },
     "metadata": {
      "needs_background": "light"
     },
     "output_type": "display_data"
    }
   ],
   "source": [
    "from statsmodels.graphics.factorplots import interaction_plot\n",
    "fig = interaction_plot(glass_df[\"glass\"], glass_df[\"temp\"], glass_df[\"strength\"])"
   ]
  },
  {
   "cell_type": "markdown",
   "id": "a792f8c9-8b66-461b-a799-e0cf468ee10e",
   "metadata": {},
   "source": [
    "이를 통해 판유리의 종류가 2에서 3으로 변하면 \n",
    "150도에서의 유리 강도의 효과가 바뀌는 상호작용을 확인할 수 있습니다."
   ]
  },
  {
   "cell_type": "code",
   "execution_count": null,
   "id": "4f7e7356-641e-4fa9-bba6-b2ee22919cba",
   "metadata": {},
   "outputs": [],
   "source": []
  }
 ],
 "metadata": {
  "kernelspec": {
   "display_name": "adp",
   "language": "python",
   "name": "adp"
  },
  "language_info": {
   "codemirror_mode": {
    "name": "ipython",
    "version": 3
   },
   "file_extension": ".py",
   "mimetype": "text/x-python",
   "name": "python",
   "nbconvert_exporter": "python",
   "pygments_lexer": "ipython3",
   "version": "3.7.10"
  }
 },
 "nbformat": 4,
 "nbformat_minor": 5
}
