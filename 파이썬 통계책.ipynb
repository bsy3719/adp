{
 "cells": [
  {
   "cell_type": "markdown",
   "id": "7a6e7a10-1ee8-4580-8133-9b52f188d3bf",
   "metadata": {},
   "source": [
    "# 가설검정\n",
    "## 예제 6.4\n",
    "어느 창구의 고객 대기 시간은 평균 11분이라고 알려져 있다. 특정 시간대의 고객 대기 시간은 정규분포를 따른다고 가정하여 표본을 얻은 결과는 아래와 같다.  \n",
    "a=0.05로 하고 특정 시간대의 고객 대기시간은 11분인지 검정하라."
   ]
  },
  {
   "cell_type": "code",
   "execution_count": 1,
   "id": "45afb6f7-dd48-4e2a-a193-db75c9454893",
   "metadata": {},
   "outputs": [],
   "source": [
    "import numpy as np\n",
    "import pandas as pd"
   ]
  },
  {
   "cell_type": "code",
   "execution_count": 2,
   "id": "6729f850-e003-4125-890e-ebefe8f4c6a9",
   "metadata": {},
   "outputs": [
    {
     "data": {
      "text/plain": [
       "array([ 8, 10, 10,  7,  9, 12, 10,  8,  7,  9])"
      ]
     },
     "execution_count": 2,
     "metadata": {},
     "output_type": "execute_result"
    }
   ],
   "source": [
    "wait_time = [8, 10, 10, 7, 9, 12, 10, 8, 7, 9]\n",
    "wait_time = np.array(wait_time)\n",
    "wait_time"
   ]
  },
  {
   "cell_type": "code",
   "execution_count": 3,
   "id": "a2a80921-1525-4343-8c30-f51e7d2a5714",
   "metadata": {},
   "outputs": [
    {
     "data": {
      "text/plain": [
       "-4.0451991747794525"
      ]
     },
     "execution_count": 3,
     "metadata": {},
     "output_type": "execute_result"
    }
   ],
   "source": [
    "mean = wait_time.mean()\n",
    "var = ((wait_time - mean)**2).sum() / (len(wait_time) - 1)\n",
    "std = np.sqrt(var)\n",
    "\n",
    "t_value = (mean - 11) / (std/ np.sqrt(len(wait_time)))\n",
    "t_value"
   ]
  },
  {
   "cell_type": "code",
   "execution_count": 4,
   "id": "d9530450-9d4e-45ec-a300-396a57d217d8",
   "metadata": {},
   "outputs": [
    {
     "name": "stdout",
     "output_type": "stream",
     "text": [
      "T-value = -4.045, p-value = 0.003\n"
     ]
    }
   ],
   "source": [
    "# scipy패키지를 통해 검정한 결과 위와 똑같은 결과가 나옴\n",
    "from scipy import stats\n",
    "wait_test = stats.ttest_1samp(wait_time, 11)\n",
    "print(\"T-value = %.3f, p-value = %.3f\" % wait_test)"
   ]
  },
  {
   "cell_type": "markdown",
   "id": "95516e40-428b-490f-97aa-30756231f207",
   "metadata": {},
   "source": [
    "## 예제 6.6 - 두 모집단 간의 차에 대한 검정\n",
    "철 함유량을 추정하는 데 화학적 분석 방법과 X선 분석 방법의 차이가 있는지를 알아보고자 한다. 다섯 개의 표본을 둘로 쪼개서 한 조각에는 화학적 분석 방법을 사용하였고,  \n",
    "다른 한 조각에는 X선 분석방법을 사용하여 철 함유량을 측정하였으며 그 결과는 다음과 같다."
   ]
  },
  {
   "cell_type": "code",
   "execution_count": 5,
   "id": "37152f1e-8058-4526-85cd-ddde2f61d66c",
   "metadata": {},
   "outputs": [
    {
     "data": {
      "text/plain": [
       "{'g': array(['A', 'A', 'A', 'A', 'A', 'B', 'B', 'B', 'B', 'B'], dtype='<U1'),\n",
       " 'x': array([2. , 2. , 2.3, 2.1, 2.4, 2.2, 1.9, 2.5, 2.3, 2.4])}"
      ]
     },
     "execution_count": 5,
     "metadata": {},
     "output_type": "execute_result"
    }
   ],
   "source": [
    "x = np.array([\n",
    "    2.0, 2.0, 2.3, 2.1, 2.4, 2.2, 1.9, 2.5, 2.3, 2.4\n",
    "])\n",
    "g= np.repeat(np.array([\"A\", \"B\"]), 5)\n",
    "\n",
    "d= {\"g\" : g, \"x\" : x}\n",
    "d"
   ]
  },
  {
   "cell_type": "code",
   "execution_count": 6,
   "id": "aeebb4ee-fdd2-4509-a15b-d93206ecc0d4",
   "metadata": {},
   "outputs": [
    {
     "data": {
      "text/html": [
       "<div>\n",
       "<style scoped>\n",
       "    .dataframe tbody tr th:only-of-type {\n",
       "        vertical-align: middle;\n",
       "    }\n",
       "\n",
       "    .dataframe tbody tr th {\n",
       "        vertical-align: top;\n",
       "    }\n",
       "\n",
       "    .dataframe thead th {\n",
       "        text-align: right;\n",
       "    }\n",
       "</style>\n",
       "<table border=\"1\" class=\"dataframe\">\n",
       "  <thead>\n",
       "    <tr style=\"text-align: right;\">\n",
       "      <th></th>\n",
       "      <th>g</th>\n",
       "      <th>x</th>\n",
       "    </tr>\n",
       "  </thead>\n",
       "  <tbody>\n",
       "    <tr>\n",
       "      <th>0</th>\n",
       "      <td>A</td>\n",
       "      <td>2.0</td>\n",
       "    </tr>\n",
       "    <tr>\n",
       "      <th>1</th>\n",
       "      <td>A</td>\n",
       "      <td>2.0</td>\n",
       "    </tr>\n",
       "    <tr>\n",
       "      <th>2</th>\n",
       "      <td>A</td>\n",
       "      <td>2.3</td>\n",
       "    </tr>\n",
       "    <tr>\n",
       "      <th>3</th>\n",
       "      <td>A</td>\n",
       "      <td>2.1</td>\n",
       "    </tr>\n",
       "    <tr>\n",
       "      <th>4</th>\n",
       "      <td>A</td>\n",
       "      <td>2.4</td>\n",
       "    </tr>\n",
       "    <tr>\n",
       "      <th>5</th>\n",
       "      <td>B</td>\n",
       "      <td>2.2</td>\n",
       "    </tr>\n",
       "    <tr>\n",
       "      <th>6</th>\n",
       "      <td>B</td>\n",
       "      <td>1.9</td>\n",
       "    </tr>\n",
       "    <tr>\n",
       "      <th>7</th>\n",
       "      <td>B</td>\n",
       "      <td>2.5</td>\n",
       "    </tr>\n",
       "    <tr>\n",
       "      <th>8</th>\n",
       "      <td>B</td>\n",
       "      <td>2.3</td>\n",
       "    </tr>\n",
       "    <tr>\n",
       "      <th>9</th>\n",
       "      <td>B</td>\n",
       "      <td>2.4</td>\n",
       "    </tr>\n",
       "  </tbody>\n",
       "</table>\n",
       "</div>"
      ],
      "text/plain": [
       "   g    x\n",
       "0  A  2.0\n",
       "1  A  2.0\n",
       "2  A  2.3\n",
       "3  A  2.1\n",
       "4  A  2.4\n",
       "5  B  2.2\n",
       "6  B  1.9\n",
       "7  B  2.5\n",
       "8  B  2.3\n",
       "9  B  2.4"
      ]
     },
     "execution_count": 6,
     "metadata": {},
     "output_type": "execute_result"
    }
   ],
   "source": [
    "data = pd.DataFrame(data=d)\n",
    "data"
   ]
  },
  {
   "cell_type": "code",
   "execution_count": 7,
   "id": "bc5c767d-1d2d-4335-a390-8203077e1e86",
   "metadata": {},
   "outputs": [
    {
     "data": {
      "text/html": [
       "<div>\n",
       "<style scoped>\n",
       "    .dataframe tbody tr th:only-of-type {\n",
       "        vertical-align: middle;\n",
       "    }\n",
       "\n",
       "    .dataframe tbody tr th {\n",
       "        vertical-align: top;\n",
       "    }\n",
       "\n",
       "    .dataframe thead th {\n",
       "        text-align: right;\n",
       "    }\n",
       "</style>\n",
       "<table border=\"1\" class=\"dataframe\">\n",
       "  <thead>\n",
       "    <tr style=\"text-align: right;\">\n",
       "      <th></th>\n",
       "      <th>count</th>\n",
       "      <th>mean</th>\n",
       "      <th>std</th>\n",
       "      <th>min</th>\n",
       "      <th>25%</th>\n",
       "      <th>50%</th>\n",
       "      <th>75%</th>\n",
       "      <th>max</th>\n",
       "    </tr>\n",
       "    <tr>\n",
       "      <th>g</th>\n",
       "      <th></th>\n",
       "      <th></th>\n",
       "      <th></th>\n",
       "      <th></th>\n",
       "      <th></th>\n",
       "      <th></th>\n",
       "      <th></th>\n",
       "      <th></th>\n",
       "    </tr>\n",
       "  </thead>\n",
       "  <tbody>\n",
       "    <tr>\n",
       "      <th>A</th>\n",
       "      <td>5.0</td>\n",
       "      <td>2.16</td>\n",
       "      <td>0.181659</td>\n",
       "      <td>2.0</td>\n",
       "      <td>2.0</td>\n",
       "      <td>2.1</td>\n",
       "      <td>2.3</td>\n",
       "      <td>2.4</td>\n",
       "    </tr>\n",
       "    <tr>\n",
       "      <th>B</th>\n",
       "      <td>5.0</td>\n",
       "      <td>2.26</td>\n",
       "      <td>0.230217</td>\n",
       "      <td>1.9</td>\n",
       "      <td>2.2</td>\n",
       "      <td>2.3</td>\n",
       "      <td>2.4</td>\n",
       "      <td>2.5</td>\n",
       "    </tr>\n",
       "  </tbody>\n",
       "</table>\n",
       "</div>"
      ],
      "text/plain": [
       "   count  mean       std  min  25%  50%  75%  max\n",
       "g                                                \n",
       "A    5.0  2.16  0.181659  2.0  2.0  2.1  2.3  2.4\n",
       "B    5.0  2.26  0.230217  1.9  2.2  2.3  2.4  2.5"
      ]
     },
     "execution_count": 7,
     "metadata": {},
     "output_type": "execute_result"
    }
   ],
   "source": [
    "A = data[data.g==\"A\"]\n",
    "B = data[data.g==\"B\"]\n",
    "\n",
    "data.groupby(\"g\")[\"x\"].describe()"
   ]
  },
  {
   "cell_type": "code",
   "execution_count": 8,
   "id": "97317321-9296-4244-9d50-cf62e9873d56",
   "metadata": {},
   "outputs": [
    {
     "data": {
      "text/plain": [
       "ShapiroResult(statistic=0.9437553882598877, pvalue=0.595504641532898)"
      ]
     },
     "execution_count": 8,
     "metadata": {},
     "output_type": "execute_result"
    }
   ],
   "source": [
    "# 정규성 검정\n",
    "from scipy.stats import shapiro\n",
    "\n",
    "shapiro(x)\n",
    "# p값이 0.59로 귀무가설을 기각할 수 없다. 그렇기 떄문에 자료는 정규분포를 따른다."
   ]
  },
  {
   "cell_type": "code",
   "execution_count": 9,
   "id": "c302ab7c-00a3-4ef3-ab59-137e2264cd77",
   "metadata": {},
   "outputs": [
    {
     "data": {
      "text/plain": [
       "BartlettResult(statistic=0.19769157819919453, pvalue=0.6565906251784377)"
      ]
     },
     "execution_count": 9,
     "metadata": {},
     "output_type": "execute_result"
    }
   ],
   "source": [
    "# 등분산 검정(정규성을 만족할 때)\n",
    "from scipy import stats\n",
    "\n",
    "stats.bartlett(A.x, B.x)\n"
   ]
  },
  {
   "cell_type": "code",
   "execution_count": 10,
   "id": "d90529f6-feba-4d32-94a8-0f6ec1734103",
   "metadata": {},
   "outputs": [
    {
     "data": {
      "text/plain": [
       "LeveneResult(statistic=0.05555555555555569, pvalue=0.8195856784525775)"
      ]
     },
     "execution_count": 10,
     "metadata": {},
     "output_type": "execute_result"
    }
   ],
   "source": [
    "# 등분산 검정-Levene 검정(정규성을 만족하지 않을 때)\n",
    "stats.levene(A.x, B.x)"
   ]
  },
  {
   "cell_type": "code",
   "execution_count": 11,
   "id": "1316a9f8-8f92-43b4-b5a1-7425f23cab3c",
   "metadata": {},
   "outputs": [
    {
     "data": {
      "text/plain": [
       "Ttest_indResult(statistic=-0.7624928516630208, pvalue=0.4676497723369858)"
      ]
     },
     "execution_count": 11,
     "metadata": {},
     "output_type": "execute_result"
    }
   ],
   "source": [
    "# T검정 - 양측검정, 등분산 가정\n",
    "from scipy.stats import ttest_ind\n",
    "ttest_ind(A.x, B.x, equal_var=True)"
   ]
  },
  {
   "cell_type": "code",
   "execution_count": 12,
   "id": "ed72a6d2-faf4-46c5-b62f-36c985055958",
   "metadata": {},
   "outputs": [
    {
     "data": {
      "text/plain": [
       "(-0.762492851663024, 0.766175113831508, 8.0)"
      ]
     },
     "execution_count": 12,
     "metadata": {},
     "output_type": "execute_result"
    }
   ],
   "source": [
    "from statsmodels.stats.weightstats import ttest_ind\n",
    "\n",
    "ttest_ind(A.x, B.x, alternative=\"larger\", usevar=\"pooled\")"
   ]
  },
  {
   "cell_type": "markdown",
   "id": "ed7e4505-d739-4db4-9e97-b10120b3f2f9",
   "metadata": {
    "tags": []
   },
   "source": [
    "## 예제 6.7 - 짝으로 된 자료에 대한 검정\n",
    "가공식품에는 다양한 식품첨가물이 사용되는데 오랫동안 보존하기 위한 보존료로는 소르빈산이 대표적으로 사용된다.  \n",
    "버지니아 대학의 식품영양학과에서는 가공햄의 저장 전후에 따른 소르빈산 잔여량을 조사하였다.  \n",
    "저장 전의 햄의 소르빈산 잔여량을 측정하고, 저장하여 60일이 지난 뒤 소르빈산 잔여량을 측정하였으며 그 결과는 다음과 같다."
   ]
  },
  {
   "cell_type": "code",
   "execution_count": 13,
   "id": "8dd5341b-d96c-4039-924b-6480bff16675",
   "metadata": {},
   "outputs": [
    {
     "data": {
      "text/html": [
       "<div>\n",
       "<style scoped>\n",
       "    .dataframe tbody tr th:only-of-type {\n",
       "        vertical-align: middle;\n",
       "    }\n",
       "\n",
       "    .dataframe tbody tr th {\n",
       "        vertical-align: top;\n",
       "    }\n",
       "\n",
       "    .dataframe thead th {\n",
       "        text-align: right;\n",
       "    }\n",
       "</style>\n",
       "<table border=\"1\" class=\"dataframe\">\n",
       "  <thead>\n",
       "    <tr style=\"text-align: right;\">\n",
       "      <th></th>\n",
       "      <th>y</th>\n",
       "      <th>x</th>\n",
       "    </tr>\n",
       "  </thead>\n",
       "  <tbody>\n",
       "    <tr>\n",
       "      <th>0</th>\n",
       "      <td>116</td>\n",
       "      <td>224</td>\n",
       "    </tr>\n",
       "    <tr>\n",
       "      <th>1</th>\n",
       "      <td>96</td>\n",
       "      <td>270</td>\n",
       "    </tr>\n",
       "    <tr>\n",
       "      <th>2</th>\n",
       "      <td>239</td>\n",
       "      <td>400</td>\n",
       "    </tr>\n",
       "    <tr>\n",
       "      <th>3</th>\n",
       "      <td>329</td>\n",
       "      <td>444</td>\n",
       "    </tr>\n",
       "    <tr>\n",
       "      <th>4</th>\n",
       "      <td>437</td>\n",
       "      <td>590</td>\n",
       "    </tr>\n",
       "    <tr>\n",
       "      <th>5</th>\n",
       "      <td>597</td>\n",
       "      <td>660</td>\n",
       "    </tr>\n",
       "    <tr>\n",
       "      <th>6</th>\n",
       "      <td>689</td>\n",
       "      <td>1400</td>\n",
       "    </tr>\n",
       "    <tr>\n",
       "      <th>7</th>\n",
       "      <td>576</td>\n",
       "      <td>680</td>\n",
       "    </tr>\n",
       "  </tbody>\n",
       "</table>\n",
       "</div>"
      ],
      "text/plain": [
       "     y     x\n",
       "0  116   224\n",
       "1   96   270\n",
       "2  239   400\n",
       "3  329   444\n",
       "4  437   590\n",
       "5  597   660\n",
       "6  689  1400\n",
       "7  576   680"
      ]
     },
     "execution_count": 13,
     "metadata": {},
     "output_type": "execute_result"
    }
   ],
   "source": [
    "x = np.array([224,270,400,444,590,660,1400,680])\n",
    "y = np.array([116,96,239,329,437,597,689,576])\n",
    "\n",
    "d= {\"y\":y, \"x\":x}\n",
    "data=pd.DataFrame(data=d)\n",
    "data"
   ]
  },
  {
   "cell_type": "code",
   "execution_count": 14,
   "id": "ad53ae15-50a1-4448-9720-83d0b32de270",
   "metadata": {},
   "outputs": [
    {
     "data": {
      "text/plain": [
       "Ttest_relResult(statistic=2.673117820270042, pvalue=0.031855388760108426)"
      ]
     },
     "execution_count": 14,
     "metadata": {},
     "output_type": "execute_result"
    }
   ],
   "source": [
    "from scipy.stats import ttest_rel\n",
    "\n",
    "ttest_rel(x,y)"
   ]
  },
  {
   "cell_type": "code",
   "execution_count": 15,
   "id": "57c67f9b-09fb-43b7-a6dc-5421c37ea19e",
   "metadata": {},
   "outputs": [
    {
     "name": "stdout",
     "output_type": "stream",
     "text": [
      "one-sided p-value= 0.015927694380054213\n"
     ]
    }
   ],
   "source": [
    "pval=ttest_rel(x,y)[1]\n",
    "print(\"one-sided p-value=\", pval/2)"
   ]
  },
  {
   "cell_type": "markdown",
   "id": "160f32a4-e30a-44d0-9e8b-8b3e6a1893ae",
   "metadata": {},
   "source": [
    "## 예제6.9 - 두 모집단 비율들의 차에 대한 검정\n",
    "어느 회사 제품의 시장 점유율이 A 지역과 B 지역 간의 차이가 있는지 알아보고자 한다.  \n",
    "A 지역, B 지역 각 80명씩 조사한 결과 A 지역은 56명, B 지역은 44명이 이 회사 제품을 사용하고 있을 때,  \n",
    "A 지역의 시장점유율이 B 지역보다 높다고 할 수 있는가?"
   ]
  },
  {
   "cell_type": "code",
   "execution_count": 16,
   "id": "7e64c310-adcc-4a7c-9ccc-bc45409a3805",
   "metadata": {},
   "outputs": [
    {
     "data": {
      "text/html": [
       "<div>\n",
       "<style scoped>\n",
       "    .dataframe tbody tr th:only-of-type {\n",
       "        vertical-align: middle;\n",
       "    }\n",
       "\n",
       "    .dataframe tbody tr th {\n",
       "        vertical-align: top;\n",
       "    }\n",
       "\n",
       "    .dataframe thead th {\n",
       "        text-align: right;\n",
       "    }\n",
       "</style>\n",
       "<table border=\"1\" class=\"dataframe\">\n",
       "  <thead>\n",
       "    <tr style=\"text-align: right;\">\n",
       "      <th></th>\n",
       "      <th>use</th>\n",
       "      <th>unuse</th>\n",
       "    </tr>\n",
       "  </thead>\n",
       "  <tbody>\n",
       "    <tr>\n",
       "      <th>A</th>\n",
       "      <td>56</td>\n",
       "      <td>24</td>\n",
       "    </tr>\n",
       "    <tr>\n",
       "      <th>B</th>\n",
       "      <td>44</td>\n",
       "      <td>37</td>\n",
       "    </tr>\n",
       "  </tbody>\n",
       "</table>\n",
       "</div>"
      ],
      "text/plain": [
       "   use  unuse\n",
       "A   56     24\n",
       "B   44     37"
      ]
     },
     "execution_count": 16,
     "metadata": {},
     "output_type": "execute_result"
    }
   ],
   "source": [
    "data = pd.DataFrame([[56,24],\n",
    "                    [44,37]], index=[\"A\", \"B\"], columns=[\"use\", \"unuse\"])\n",
    "data"
   ]
  },
  {
   "cell_type": "code",
   "execution_count": 17,
   "id": "10a2f573-615d-4adb-ab2b-2aff6c65185d",
   "metadata": {},
   "outputs": [
    {
     "data": {
      "text/plain": [
       "(1.9621212121212122, 0.02928955724688188)"
      ]
     },
     "execution_count": 17,
     "metadata": {},
     "output_type": "execute_result"
    }
   ],
   "source": [
    "from scipy.stats import fisher_exact\n",
    "\n",
    "fisher_exact(data, alternative=\"greater\")"
   ]
  },
  {
   "cell_type": "markdown",
   "id": "95a98ed1-095a-4f78-ac55-8d93c418badc",
   "metadata": {},
   "source": [
    "# 범주형 자료에 대한 분석"
   ]
  },
  {
   "cell_type": "markdown",
   "id": "881c308b-50d7-43f6-a645-1c2a3323a3c6",
   "metadata": {},
   "source": [
    "## 예제 7.1 - 적합도 검정\n",
    "한 자동차회사에서는 다섯 가지의 색상을 ㅗ승용차를 판매를 계획하고 A 색상 30%, B 색상 15%, C 색상 10%, D 색상 25%, E 색상 20%의 비율로 하기로 하였다.  \n",
    "그리고 250명의 고객층을 대상으로 (A, B, C, D, E) 색상 중 선호색상에 대한 자료를 얻어 고객들의 선호색상 분포가 자동차회사의 계획 비율에 적합한가를 알아보고자 한다."
   ]
  },
  {
   "cell_type": "code",
   "execution_count": 18,
   "id": "b37322a4-6204-48ac-8207-ca2346f8948d",
   "metadata": {},
   "outputs": [],
   "source": [
    "x = np.array([90,30,35,55,40])\n",
    "e_x = np.array([0.3,0.15,0.1,0.25,0.2]) * 250"
   ]
  },
  {
   "cell_type": "code",
   "execution_count": 19,
   "id": "af6db03e-e7b8-43ff-b149-99847e5696a2",
   "metadata": {},
   "outputs": [
    {
     "name": "stdout",
     "output_type": "stream",
     "text": [
      "11.4 0.02241796856505753\n"
     ]
    }
   ],
   "source": [
    "from scipy.stats import chisquare\n",
    "sta, pvalue =  chisquare(x, e_x)\n",
    "print(sta, pvalue)"
   ]
  },
  {
   "cell_type": "markdown",
   "id": "570214c9-c83c-4ac4-9dba-5272a41fb9ee",
   "metadata": {},
   "source": [
    "## 예제 7.4 - 독립성 검정\n",
    "어느 카드 회사에서는 고객의 등급(A, B, C, D)과 카드 사용액이 관련이 있을 것으로 생ㄱ가하여 독립성 검정을 하기 위해 다음과 같은 분할표를 얻었다.  \n",
    "즉 860명 고객의 사용액과 고객 등급을 조사하여 사용액은 다섯 가지, 고객 등급은 네가지로 나누어 정리하였다."
   ]
  },
  {
   "cell_type": "code",
   "execution_count": 20,
   "id": "7669be2f-c5f0-465a-a40d-56de318145cf",
   "metadata": {},
   "outputs": [],
   "source": [
    "data = pd.read_csv(\"./book_data/ex7-4.csv\")"
   ]
  },
  {
   "cell_type": "code",
   "execution_count": 21,
   "id": "5224b304-ecf0-442c-87c8-7f63a1f67c8b",
   "metadata": {},
   "outputs": [
    {
     "data": {
      "text/html": [
       "<div>\n",
       "<style scoped>\n",
       "    .dataframe tbody tr th:only-of-type {\n",
       "        vertical-align: middle;\n",
       "    }\n",
       "\n",
       "    .dataframe tbody tr th {\n",
       "        vertical-align: top;\n",
       "    }\n",
       "\n",
       "    .dataframe thead th {\n",
       "        text-align: right;\n",
       "    }\n",
       "</style>\n",
       "<table border=\"1\" class=\"dataframe\">\n",
       "  <thead>\n",
       "    <tr style=\"text-align: right;\">\n",
       "      <th>level</th>\n",
       "      <th>A</th>\n",
       "      <th>B</th>\n",
       "      <th>C</th>\n",
       "      <th>D</th>\n",
       "      <th>전체</th>\n",
       "    </tr>\n",
       "    <tr>\n",
       "      <th>amount</th>\n",
       "      <th></th>\n",
       "      <th></th>\n",
       "      <th></th>\n",
       "      <th></th>\n",
       "      <th></th>\n",
       "    </tr>\n",
       "  </thead>\n",
       "  <tbody>\n",
       "    <tr>\n",
       "      <th>10under</th>\n",
       "      <td>21</td>\n",
       "      <td>42</td>\n",
       "      <td>60</td>\n",
       "      <td>5</td>\n",
       "      <td>128</td>\n",
       "    </tr>\n",
       "    <tr>\n",
       "      <th>10~20</th>\n",
       "      <td>15</td>\n",
       "      <td>122</td>\n",
       "      <td>45</td>\n",
       "      <td>14</td>\n",
       "      <td>196</td>\n",
       "    </tr>\n",
       "    <tr>\n",
       "      <th>20~40</th>\n",
       "      <td>94</td>\n",
       "      <td>100</td>\n",
       "      <td>16</td>\n",
       "      <td>30</td>\n",
       "      <td>240</td>\n",
       "    </tr>\n",
       "    <tr>\n",
       "      <th>40~70</th>\n",
       "      <td>120</td>\n",
       "      <td>65</td>\n",
       "      <td>20</td>\n",
       "      <td>18</td>\n",
       "      <td>223</td>\n",
       "    </tr>\n",
       "    <tr>\n",
       "      <th>70upper</th>\n",
       "      <td>32</td>\n",
       "      <td>9</td>\n",
       "      <td>12</td>\n",
       "      <td>20</td>\n",
       "      <td>73</td>\n",
       "    </tr>\n",
       "    <tr>\n",
       "      <th>전체</th>\n",
       "      <td>282</td>\n",
       "      <td>338</td>\n",
       "      <td>153</td>\n",
       "      <td>87</td>\n",
       "      <td>860</td>\n",
       "    </tr>\n",
       "  </tbody>\n",
       "</table>\n",
       "</div>"
      ],
      "text/plain": [
       "level      A    B    C   D   전체\n",
       "amount                         \n",
       "10under   21   42   60   5  128\n",
       "10~20     15  122   45  14  196\n",
       "20~40     94  100   16  30  240\n",
       "40~70    120   65   20  18  223\n",
       "70upper   32    9   12  20   73\n",
       "전체       282  338  153  87  860"
      ]
     },
     "execution_count": 21,
     "metadata": {},
     "output_type": "execute_result"
    }
   ],
   "source": [
    "pd.crosstab(index=data[\"amount\"], columns=data[\"level\"], values=data[\"count\"], aggfunc=sum, margins=True, margins_name=\"전체\")"
   ]
  },
  {
   "cell_type": "code",
   "execution_count": 22,
   "id": "a80198d0-1e0a-45bf-aa66-a702a9940613",
   "metadata": {},
   "outputs": [
    {
     "data": {
      "text/html": [
       "<div>\n",
       "<style scoped>\n",
       "    .dataframe tbody tr th:only-of-type {\n",
       "        vertical-align: middle;\n",
       "    }\n",
       "\n",
       "    .dataframe tbody tr th {\n",
       "        vertical-align: top;\n",
       "    }\n",
       "\n",
       "    .dataframe thead th {\n",
       "        text-align: right;\n",
       "    }\n",
       "</style>\n",
       "<table border=\"1\" class=\"dataframe\">\n",
       "  <thead>\n",
       "    <tr style=\"text-align: right;\">\n",
       "      <th>level</th>\n",
       "      <th>A</th>\n",
       "      <th>B</th>\n",
       "      <th>C</th>\n",
       "      <th>D</th>\n",
       "    </tr>\n",
       "    <tr>\n",
       "      <th>amount</th>\n",
       "      <th></th>\n",
       "      <th></th>\n",
       "      <th></th>\n",
       "      <th></th>\n",
       "    </tr>\n",
       "  </thead>\n",
       "  <tbody>\n",
       "    <tr>\n",
       "      <th>10under</th>\n",
       "      <td>0.1641</td>\n",
       "      <td>0.3281</td>\n",
       "      <td>0.4688</td>\n",
       "      <td>0.0391</td>\n",
       "    </tr>\n",
       "    <tr>\n",
       "      <th>10~20</th>\n",
       "      <td>0.0765</td>\n",
       "      <td>0.6224</td>\n",
       "      <td>0.2296</td>\n",
       "      <td>0.0714</td>\n",
       "    </tr>\n",
       "    <tr>\n",
       "      <th>20~40</th>\n",
       "      <td>0.3917</td>\n",
       "      <td>0.4167</td>\n",
       "      <td>0.0667</td>\n",
       "      <td>0.1250</td>\n",
       "    </tr>\n",
       "    <tr>\n",
       "      <th>40~70</th>\n",
       "      <td>0.5381</td>\n",
       "      <td>0.2915</td>\n",
       "      <td>0.0897</td>\n",
       "      <td>0.0807</td>\n",
       "    </tr>\n",
       "    <tr>\n",
       "      <th>70upper</th>\n",
       "      <td>0.4384</td>\n",
       "      <td>0.1233</td>\n",
       "      <td>0.1644</td>\n",
       "      <td>0.2740</td>\n",
       "    </tr>\n",
       "    <tr>\n",
       "      <th>전체</th>\n",
       "      <td>0.3279</td>\n",
       "      <td>0.3930</td>\n",
       "      <td>0.1779</td>\n",
       "      <td>0.1012</td>\n",
       "    </tr>\n",
       "  </tbody>\n",
       "</table>\n",
       "</div>"
      ],
      "text/plain": [
       "level         A       B       C       D\n",
       "amount                                 \n",
       "10under  0.1641  0.3281  0.4688  0.0391\n",
       "10~20    0.0765  0.6224  0.2296  0.0714\n",
       "20~40    0.3917  0.4167  0.0667  0.1250\n",
       "40~70    0.5381  0.2915  0.0897  0.0807\n",
       "70upper  0.4384  0.1233  0.1644  0.2740\n",
       "전체       0.3279  0.3930  0.1779  0.1012"
      ]
     },
     "execution_count": 22,
     "metadata": {},
     "output_type": "execute_result"
    }
   ],
   "source": [
    "pd.crosstab(index=data[\"amount\"], columns=data[\"level\"], values=data[\"count\"], aggfunc=sum, margins=True, margins_name=\"전체\", normalize=\"index\").round(4)"
   ]
  },
  {
   "cell_type": "code",
   "execution_count": 23,
   "id": "3563add4-5f82-499e-8361-3c50be02d6e2",
   "metadata": {},
   "outputs": [
    {
     "data": {
      "text/html": [
       "<div>\n",
       "<style scoped>\n",
       "    .dataframe tbody tr th:only-of-type {\n",
       "        vertical-align: middle;\n",
       "    }\n",
       "\n",
       "    .dataframe tbody tr th {\n",
       "        vertical-align: top;\n",
       "    }\n",
       "\n",
       "    .dataframe thead th {\n",
       "        text-align: right;\n",
       "    }\n",
       "</style>\n",
       "<table border=\"1\" class=\"dataframe\">\n",
       "  <thead>\n",
       "    <tr style=\"text-align: right;\">\n",
       "      <th>level</th>\n",
       "      <th>A</th>\n",
       "      <th>B</th>\n",
       "      <th>C</th>\n",
       "      <th>D</th>\n",
       "      <th>전체</th>\n",
       "    </tr>\n",
       "    <tr>\n",
       "      <th>amount</th>\n",
       "      <th></th>\n",
       "      <th></th>\n",
       "      <th></th>\n",
       "      <th></th>\n",
       "      <th></th>\n",
       "    </tr>\n",
       "  </thead>\n",
       "  <tbody>\n",
       "    <tr>\n",
       "      <th>10under</th>\n",
       "      <td>21</td>\n",
       "      <td>42</td>\n",
       "      <td>60</td>\n",
       "      <td>5</td>\n",
       "      <td>128</td>\n",
       "    </tr>\n",
       "    <tr>\n",
       "      <th>10~20</th>\n",
       "      <td>15</td>\n",
       "      <td>122</td>\n",
       "      <td>45</td>\n",
       "      <td>14</td>\n",
       "      <td>196</td>\n",
       "    </tr>\n",
       "    <tr>\n",
       "      <th>20~40</th>\n",
       "      <td>94</td>\n",
       "      <td>100</td>\n",
       "      <td>16</td>\n",
       "      <td>30</td>\n",
       "      <td>240</td>\n",
       "    </tr>\n",
       "    <tr>\n",
       "      <th>40~70</th>\n",
       "      <td>120</td>\n",
       "      <td>65</td>\n",
       "      <td>20</td>\n",
       "      <td>18</td>\n",
       "      <td>223</td>\n",
       "    </tr>\n",
       "    <tr>\n",
       "      <th>70upper</th>\n",
       "      <td>32</td>\n",
       "      <td>9</td>\n",
       "      <td>12</td>\n",
       "      <td>20</td>\n",
       "      <td>73</td>\n",
       "    </tr>\n",
       "    <tr>\n",
       "      <th>전체</th>\n",
       "      <td>282</td>\n",
       "      <td>338</td>\n",
       "      <td>153</td>\n",
       "      <td>87</td>\n",
       "      <td>860</td>\n",
       "    </tr>\n",
       "  </tbody>\n",
       "</table>\n",
       "</div>"
      ],
      "text/plain": [
       "level      A    B    C   D   전체\n",
       "amount                         \n",
       "10under   21   42   60   5  128\n",
       "10~20     15  122   45  14  196\n",
       "20~40     94  100   16  30  240\n",
       "40~70    120   65   20  18  223\n",
       "70upper   32    9   12  20   73\n",
       "전체       282  338  153  87  860"
      ]
     },
     "execution_count": 23,
     "metadata": {},
     "output_type": "execute_result"
    }
   ],
   "source": [
    "#카이제곱 검정 및 기대도수표 작성\n",
    "from scipy.stats import chi2_contingency\n",
    "\n",
    "d_table = pd.crosstab(index=data[\"amount\"], columns=data[\"level\"], values=data[\"count\"], aggfunc=sum, margins=True, margins_name=\"전체\")\n",
    "d_table"
   ]
  },
  {
   "cell_type": "code",
   "execution_count": 24,
   "id": "14d8719c-58d1-4634-8ff7-89a98cf2dcd9",
   "metadata": {},
   "outputs": [
    {
     "data": {
      "text/html": [
       "<div>\n",
       "<style scoped>\n",
       "    .dataframe tbody tr th:only-of-type {\n",
       "        vertical-align: middle;\n",
       "    }\n",
       "\n",
       "    .dataframe tbody tr th {\n",
       "        vertical-align: top;\n",
       "    }\n",
       "\n",
       "    .dataframe thead th {\n",
       "        text-align: right;\n",
       "    }\n",
       "</style>\n",
       "<table border=\"1\" class=\"dataframe\">\n",
       "  <thead>\n",
       "    <tr style=\"text-align: right;\">\n",
       "      <th>level</th>\n",
       "      <th>A</th>\n",
       "      <th>B</th>\n",
       "      <th>C</th>\n",
       "      <th>D</th>\n",
       "      <th>전체</th>\n",
       "    </tr>\n",
       "    <tr>\n",
       "      <th>amount</th>\n",
       "      <th></th>\n",
       "      <th></th>\n",
       "      <th></th>\n",
       "      <th></th>\n",
       "      <th></th>\n",
       "    </tr>\n",
       "  </thead>\n",
       "  <tbody>\n",
       "    <tr>\n",
       "      <th>10under</th>\n",
       "      <td>41.972093</td>\n",
       "      <td>50.306977</td>\n",
       "      <td>22.772093</td>\n",
       "      <td>12.948837</td>\n",
       "      <td>128.0</td>\n",
       "    </tr>\n",
       "    <tr>\n",
       "      <th>10~20</th>\n",
       "      <td>64.269767</td>\n",
       "      <td>77.032558</td>\n",
       "      <td>34.869767</td>\n",
       "      <td>19.827907</td>\n",
       "      <td>196.0</td>\n",
       "    </tr>\n",
       "    <tr>\n",
       "      <th>20~40</th>\n",
       "      <td>78.697674</td>\n",
       "      <td>94.325581</td>\n",
       "      <td>42.697674</td>\n",
       "      <td>24.279070</td>\n",
       "      <td>240.0</td>\n",
       "    </tr>\n",
       "    <tr>\n",
       "      <th>40~70</th>\n",
       "      <td>73.123256</td>\n",
       "      <td>87.644186</td>\n",
       "      <td>39.673256</td>\n",
       "      <td>22.559302</td>\n",
       "      <td>223.0</td>\n",
       "    </tr>\n",
       "    <tr>\n",
       "      <th>70upper</th>\n",
       "      <td>23.937209</td>\n",
       "      <td>28.690698</td>\n",
       "      <td>12.987209</td>\n",
       "      <td>7.384884</td>\n",
       "      <td>73.0</td>\n",
       "    </tr>\n",
       "    <tr>\n",
       "      <th>전체</th>\n",
       "      <td>282.000000</td>\n",
       "      <td>338.000000</td>\n",
       "      <td>153.000000</td>\n",
       "      <td>87.000000</td>\n",
       "      <td>860.0</td>\n",
       "    </tr>\n",
       "  </tbody>\n",
       "</table>\n",
       "</div>"
      ],
      "text/plain": [
       "level             A           B           C          D     전체\n",
       "amount                                                       \n",
       "10under   41.972093   50.306977   22.772093  12.948837  128.0\n",
       "10~20     64.269767   77.032558   34.869767  19.827907  196.0\n",
       "20~40     78.697674   94.325581   42.697674  24.279070  240.0\n",
       "40~70     73.123256   87.644186   39.673256  22.559302  223.0\n",
       "70upper   23.937209   28.690698   12.987209   7.384884   73.0\n",
       "전체       282.000000  338.000000  153.000000  87.000000  860.0"
      ]
     },
     "execution_count": 24,
     "metadata": {},
     "output_type": "execute_result"
    }
   ],
   "source": [
    "chi, p, df, expected = chi2_contingency(d_table)\n",
    "\n",
    "expected_table = pd.DataFrame(data=expected, index=d_table.index, columns=d_table.columns)\n",
    "expected_table"
   ]
  },
  {
   "cell_type": "code",
   "execution_count": 25,
   "id": "9419cea9-202a-457a-86e9-9d87e44d2598",
   "metadata": {},
   "outputs": [
    {
     "name": "stdout",
     "output_type": "stream",
     "text": [
      "252.05782411526025 4.392425562427717e-42\n"
     ]
    }
   ],
   "source": [
    "print(chi, p)"
   ]
  },
  {
   "cell_type": "markdown",
   "id": "f32285bb-b8b6-4be1-800f-c98a72a4aeec",
   "metadata": {},
   "source": [
    "## 예제 7.5 - 동질성 검정\n",
    "어느 공장은 근무 시간대에 따른 불량률이 모두 같은지를 알아보기 위하여 다음과 같은 자료를 얻었다.  \n",
    "여기서 분석 목적은 세 작업 시간대에 따른 불량품 분포가 비슷한가를 알아보기 위한 것이므로 동질성 검정에 해당한다."
   ]
  },
  {
   "cell_type": "code",
   "execution_count": 27,
   "id": "20d342d6-86a8-4696-8867-6bd17340aadf",
   "metadata": {},
   "outputs": [
    {
     "data": {
      "text/plain": [
       "{'time': array(['day', 'evening', 'night', 'day', 'evening', 'night'], dtype='<U7'),\n",
       " 'goods': array(['O', 'O', 'O', 'X', 'X', 'X'], dtype='<U1'),\n",
       " 'count': array([905, 890, 870,  45,  55,  70])}"
      ]
     },
     "execution_count": 27,
     "metadata": {},
     "output_type": "execute_result"
    }
   ],
   "source": [
    "time = np.tile([\"day\", \"evening\", \"night\"], 2)\n",
    "count = np.array([905, 890, 870, 45, 55, 70])\n",
    "goods = np.repeat([\"O\", \"X\"], 3)\n",
    "data = {\"time\" : time, \"goods\" : goods, \"count\" : count }\n",
    "data"
   ]
  },
  {
   "cell_type": "code",
   "execution_count": 29,
   "id": "8a714ace-e1a0-43bc-a1c2-ccd45ae69e98",
   "metadata": {},
   "outputs": [
    {
     "data": {
      "text/html": [
       "<div>\n",
       "<style scoped>\n",
       "    .dataframe tbody tr th:only-of-type {\n",
       "        vertical-align: middle;\n",
       "    }\n",
       "\n",
       "    .dataframe tbody tr th {\n",
       "        vertical-align: top;\n",
       "    }\n",
       "\n",
       "    .dataframe thead th {\n",
       "        text-align: right;\n",
       "    }\n",
       "</style>\n",
       "<table border=\"1\" class=\"dataframe\">\n",
       "  <thead>\n",
       "    <tr style=\"text-align: right;\">\n",
       "      <th>col_0</th>\n",
       "      <th>day</th>\n",
       "      <th>evening</th>\n",
       "      <th>night</th>\n",
       "      <th>전체</th>\n",
       "    </tr>\n",
       "    <tr>\n",
       "      <th>row_0</th>\n",
       "      <th></th>\n",
       "      <th></th>\n",
       "      <th></th>\n",
       "      <th></th>\n",
       "    </tr>\n",
       "  </thead>\n",
       "  <tbody>\n",
       "    <tr>\n",
       "      <th>O</th>\n",
       "      <td>905</td>\n",
       "      <td>890</td>\n",
       "      <td>870</td>\n",
       "      <td>2665</td>\n",
       "    </tr>\n",
       "    <tr>\n",
       "      <th>X</th>\n",
       "      <td>45</td>\n",
       "      <td>55</td>\n",
       "      <td>70</td>\n",
       "      <td>170</td>\n",
       "    </tr>\n",
       "    <tr>\n",
       "      <th>전체</th>\n",
       "      <td>950</td>\n",
       "      <td>945</td>\n",
       "      <td>940</td>\n",
       "      <td>2835</td>\n",
       "    </tr>\n",
       "  </tbody>\n",
       "</table>\n",
       "</div>"
      ],
      "text/plain": [
       "col_0  day  evening  night    전체\n",
       "row_0                           \n",
       "O      905      890    870  2665\n",
       "X       45       55     70   170\n",
       "전체     950      945    940  2835"
      ]
     },
     "execution_count": 29,
     "metadata": {},
     "output_type": "execute_result"
    }
   ],
   "source": [
    "d_table = pd.crosstab(index=data[\"goods\"], columns=data[\"time\"] ,\n",
    "                    values=data[\"count\"], aggfunc=sum, margins=True, margins_name=\"전체\" )\n",
    "d_table"
   ]
  },
  {
   "cell_type": "code",
   "execution_count": 30,
   "id": "b70b1149-ecc6-442f-bfed-0e8b9b717efc",
   "metadata": {},
   "outputs": [],
   "source": [
    "chi, p, df, expected = chi2_contingency(d_table)"
   ]
  },
  {
   "cell_type": "code",
   "execution_count": 32,
   "id": "d9c3e5c0-2145-454c-858d-a4e7cf247eb8",
   "metadata": {},
   "outputs": [
    {
     "name": "stdout",
     "output_type": "stream",
     "text": [
      "6.2339 0.3975\n"
     ]
    }
   ],
   "source": [
    "print(chi.round(4), p.round(4))"
   ]
  },
  {
   "cell_type": "markdown",
   "id": "45d9c838-52db-44b7-940a-3c4d254e8325",
   "metadata": {},
   "source": [
    "## 예제 8.1 - 일원배치분산분석"
   ]
  },
  {
   "cell_type": "code",
   "execution_count": 34,
   "id": "a64f4b88-182e-4c97-a067-07435de900da",
   "metadata": {},
   "outputs": [
    {
     "data": {
      "text/html": [
       "<div>\n",
       "<style scoped>\n",
       "    .dataframe tbody tr th:only-of-type {\n",
       "        vertical-align: middle;\n",
       "    }\n",
       "\n",
       "    .dataframe tbody tr th {\n",
       "        vertical-align: top;\n",
       "    }\n",
       "\n",
       "    .dataframe thead th {\n",
       "        text-align: right;\n",
       "    }\n",
       "</style>\n",
       "<table border=\"1\" class=\"dataframe\">\n",
       "  <thead>\n",
       "    <tr style=\"text-align: right;\">\n",
       "      <th></th>\n",
       "      <th>sample</th>\n",
       "      <th>aggregate</th>\n",
       "      <th>y</th>\n",
       "    </tr>\n",
       "  </thead>\n",
       "  <tbody>\n",
       "    <tr>\n",
       "      <th>0</th>\n",
       "      <td>1</td>\n",
       "      <td>a1</td>\n",
       "      <td>551</td>\n",
       "    </tr>\n",
       "    <tr>\n",
       "      <th>1</th>\n",
       "      <td>2</td>\n",
       "      <td>a1</td>\n",
       "      <td>457</td>\n",
       "    </tr>\n",
       "    <tr>\n",
       "      <th>2</th>\n",
       "      <td>3</td>\n",
       "      <td>a1</td>\n",
       "      <td>450</td>\n",
       "    </tr>\n",
       "    <tr>\n",
       "      <th>3</th>\n",
       "      <td>4</td>\n",
       "      <td>a1</td>\n",
       "      <td>731</td>\n",
       "    </tr>\n",
       "    <tr>\n",
       "      <th>4</th>\n",
       "      <td>5</td>\n",
       "      <td>a1</td>\n",
       "      <td>499</td>\n",
       "    </tr>\n",
       "  </tbody>\n",
       "</table>\n",
       "</div>"
      ],
      "text/plain": [
       "   sample aggregate    y\n",
       "0       1        a1  551\n",
       "1       2        a1  457\n",
       "2       3        a1  450\n",
       "3       4        a1  731\n",
       "4       5        a1  499"
      ]
     },
     "execution_count": 34,
     "metadata": {},
     "output_type": "execute_result"
    }
   ],
   "source": [
    "data = pd.read_csv(\"./book_data/ex8-1.csv\")\n",
    "data.head()"
   ]
  },
  {
   "cell_type": "code",
   "execution_count": 35,
   "id": "90684b22-3029-4576-ade4-4cd809803617",
   "metadata": {},
   "outputs": [
    {
     "data": {
      "text/html": [
       "<div>\n",
       "<style scoped>\n",
       "    .dataframe tbody tr th:only-of-type {\n",
       "        vertical-align: middle;\n",
       "    }\n",
       "\n",
       "    .dataframe tbody tr th {\n",
       "        vertical-align: top;\n",
       "    }\n",
       "\n",
       "    .dataframe thead th {\n",
       "        text-align: right;\n",
       "    }\n",
       "</style>\n",
       "<table border=\"1\" class=\"dataframe\">\n",
       "  <thead>\n",
       "    <tr style=\"text-align: right;\">\n",
       "      <th></th>\n",
       "      <th>count</th>\n",
       "      <th>mean</th>\n",
       "      <th>std</th>\n",
       "      <th>min</th>\n",
       "      <th>25%</th>\n",
       "      <th>50%</th>\n",
       "      <th>75%</th>\n",
       "      <th>max</th>\n",
       "    </tr>\n",
       "    <tr>\n",
       "      <th>aggregate</th>\n",
       "      <th></th>\n",
       "      <th></th>\n",
       "      <th></th>\n",
       "      <th></th>\n",
       "      <th></th>\n",
       "      <th></th>\n",
       "      <th></th>\n",
       "      <th></th>\n",
       "    </tr>\n",
       "  </thead>\n",
       "  <tbody>\n",
       "    <tr>\n",
       "      <th>a1</th>\n",
       "      <td>6.0</td>\n",
       "      <td>553.333333</td>\n",
       "      <td>110.153832</td>\n",
       "      <td>450.0</td>\n",
       "      <td>467.50</td>\n",
       "      <td>525.0</td>\n",
       "      <td>611.75</td>\n",
       "      <td>731.0</td>\n",
       "    </tr>\n",
       "    <tr>\n",
       "      <th>a2</th>\n",
       "      <td>6.0</td>\n",
       "      <td>569.333333</td>\n",
       "      <td>47.986109</td>\n",
       "      <td>508.0</td>\n",
       "      <td>532.75</td>\n",
       "      <td>581.5</td>\n",
       "      <td>592.00</td>\n",
       "      <td>633.0</td>\n",
       "    </tr>\n",
       "    <tr>\n",
       "      <th>a3</th>\n",
       "      <td>6.0</td>\n",
       "      <td>610.500000</td>\n",
       "      <td>59.945809</td>\n",
       "      <td>511.0</td>\n",
       "      <td>583.50</td>\n",
       "      <td>627.0</td>\n",
       "      <td>645.75</td>\n",
       "      <td>677.0</td>\n",
       "    </tr>\n",
       "    <tr>\n",
       "      <th>a4</th>\n",
       "      <td>6.0</td>\n",
       "      <td>465.166667</td>\n",
       "      <td>57.607002</td>\n",
       "      <td>415.0</td>\n",
       "      <td>422.25</td>\n",
       "      <td>443.5</td>\n",
       "      <td>500.00</td>\n",
       "      <td>555.0</td>\n",
       "    </tr>\n",
       "    <tr>\n",
       "      <th>a5</th>\n",
       "      <td>6.0</td>\n",
       "      <td>610.666667</td>\n",
       "      <td>58.783218</td>\n",
       "      <td>522.0</td>\n",
       "      <td>575.50</td>\n",
       "      <td>622.0</td>\n",
       "      <td>649.75</td>\n",
       "      <td>679.0</td>\n",
       "    </tr>\n",
       "  </tbody>\n",
       "</table>\n",
       "</div>"
      ],
      "text/plain": [
       "           count        mean         std    min     25%    50%     75%    max\n",
       "aggregate                                                                    \n",
       "a1           6.0  553.333333  110.153832  450.0  467.50  525.0  611.75  731.0\n",
       "a2           6.0  569.333333   47.986109  508.0  532.75  581.5  592.00  633.0\n",
       "a3           6.0  610.500000   59.945809  511.0  583.50  627.0  645.75  677.0\n",
       "a4           6.0  465.166667   57.607002  415.0  422.25  443.5  500.00  555.0\n",
       "a5           6.0  610.666667   58.783218  522.0  575.50  622.0  649.75  679.0"
      ]
     },
     "execution_count": 35,
     "metadata": {},
     "output_type": "execute_result"
    }
   ],
   "source": [
    "data.groupby(\"aggregate\")[\"y\"].describe()"
   ]
  },
  {
   "cell_type": "code",
   "execution_count": 36,
   "id": "379a0459-3ce4-40bb-8bc7-601f428e76dc",
   "metadata": {},
   "outputs": [
    {
     "data": {
      "text/html": [
       "<div>\n",
       "<style scoped>\n",
       "    .dataframe tbody tr th:only-of-type {\n",
       "        vertical-align: middle;\n",
       "    }\n",
       "\n",
       "    .dataframe tbody tr th {\n",
       "        vertical-align: top;\n",
       "    }\n",
       "\n",
       "    .dataframe thead th {\n",
       "        text-align: right;\n",
       "    }\n",
       "</style>\n",
       "<table border=\"1\" class=\"dataframe\">\n",
       "  <thead>\n",
       "    <tr style=\"text-align: right;\">\n",
       "      <th></th>\n",
       "      <th>df</th>\n",
       "      <th>sum_sq</th>\n",
       "      <th>mean_sq</th>\n",
       "      <th>F</th>\n",
       "      <th>PR(&gt;F)</th>\n",
       "    </tr>\n",
       "  </thead>\n",
       "  <tbody>\n",
       "    <tr>\n",
       "      <th>aggregate</th>\n",
       "      <td>4.0</td>\n",
       "      <td>85356.466667</td>\n",
       "      <td>21339.116667</td>\n",
       "      <td>4.301536</td>\n",
       "      <td>0.008752</td>\n",
       "    </tr>\n",
       "    <tr>\n",
       "      <th>Residual</th>\n",
       "      <td>25.0</td>\n",
       "      <td>124020.333333</td>\n",
       "      <td>4960.813333</td>\n",
       "      <td>NaN</td>\n",
       "      <td>NaN</td>\n",
       "    </tr>\n",
       "  </tbody>\n",
       "</table>\n",
       "</div>"
      ],
      "text/plain": [
       "             df         sum_sq       mean_sq         F    PR(>F)\n",
       "aggregate   4.0   85356.466667  21339.116667  4.301536  0.008752\n",
       "Residual   25.0  124020.333333   4960.813333       NaN       NaN"
      ]
     },
     "execution_count": 36,
     "metadata": {},
     "output_type": "execute_result"
    }
   ],
   "source": [
    "import statsmodels.api as sm\n",
    "import statsmodels.formula.api as smf\n",
    "\n",
    "fit = smf.ols(\"y ~ aggregate\", data).fit()\n",
    "sm.stats.anova_lm(fit, typ=1)"
   ]
  },
  {
   "cell_type": "markdown",
   "id": "a65c8668-4f7c-4f7f-882d-7abb89871623",
   "metadata": {},
   "source": [
    "## 예제 8.2 - 반복이 없는 이원배치분산분석\n",
    "어느 공장에서는 4대의 서로 다른 조립기계와 6명의 작업자에 따라 작업속도에 차이가 있는지 알아보기 위하여 분산분석을 수행하고자 한다.  \n",
    "또한 작업자의 숙련도에 따라서도 작업 속도가 차이가 있을 것으로 기대된다.  \n",
    "각 작업자에게 무작위의 순서로 기계를 할당하였으며 제품 조립 시간을 초단위로 기록하였고, 그 자료는 다음과 같이 주어진다."
   ]
  },
  {
   "cell_type": "code",
   "execution_count": 37,
   "id": "181da92f-c69b-401d-9805-528f53b9615d",
   "metadata": {},
   "outputs": [
    {
     "data": {
      "text/html": [
       "<div>\n",
       "<style scoped>\n",
       "    .dataframe tbody tr th:only-of-type {\n",
       "        vertical-align: middle;\n",
       "    }\n",
       "\n",
       "    .dataframe tbody tr th {\n",
       "        vertical-align: top;\n",
       "    }\n",
       "\n",
       "    .dataframe thead th {\n",
       "        text-align: right;\n",
       "    }\n",
       "</style>\n",
       "<table border=\"1\" class=\"dataframe\">\n",
       "  <thead>\n",
       "    <tr style=\"text-align: right;\">\n",
       "      <th></th>\n",
       "      <th>A</th>\n",
       "      <th>B</th>\n",
       "      <th>Y</th>\n",
       "    </tr>\n",
       "  </thead>\n",
       "  <tbody>\n",
       "    <tr>\n",
       "      <th>0</th>\n",
       "      <td>1</td>\n",
       "      <td>1</td>\n",
       "      <td>42.5</td>\n",
       "    </tr>\n",
       "    <tr>\n",
       "      <th>1</th>\n",
       "      <td>2</td>\n",
       "      <td>1</td>\n",
       "      <td>39.8</td>\n",
       "    </tr>\n",
       "    <tr>\n",
       "      <th>2</th>\n",
       "      <td>3</td>\n",
       "      <td>1</td>\n",
       "      <td>40.2</td>\n",
       "    </tr>\n",
       "    <tr>\n",
       "      <th>3</th>\n",
       "      <td>4</td>\n",
       "      <td>1</td>\n",
       "      <td>41.3</td>\n",
       "    </tr>\n",
       "    <tr>\n",
       "      <th>4</th>\n",
       "      <td>1</td>\n",
       "      <td>2</td>\n",
       "      <td>39.3</td>\n",
       "    </tr>\n",
       "  </tbody>\n",
       "</table>\n",
       "</div>"
      ],
      "text/plain": [
       "   A  B     Y\n",
       "0  1  1  42.5\n",
       "1  2  1  39.8\n",
       "2  3  1  40.2\n",
       "3  4  1  41.3\n",
       "4  1  2  39.3"
      ]
     },
     "execution_count": 37,
     "metadata": {},
     "output_type": "execute_result"
    }
   ],
   "source": [
    "data = pd.read_csv(\"./book_data/ex8-2.csv\")\n",
    "data.head()"
   ]
  },
  {
   "cell_type": "code",
   "execution_count": 38,
   "id": "1b46f62c-d4c8-44dd-97d3-12af37f3d923",
   "metadata": {},
   "outputs": [
    {
     "data": {
      "text/html": [
       "<div>\n",
       "<style scoped>\n",
       "    .dataframe tbody tr th:only-of-type {\n",
       "        vertical-align: middle;\n",
       "    }\n",
       "\n",
       "    .dataframe tbody tr th {\n",
       "        vertical-align: top;\n",
       "    }\n",
       "\n",
       "    .dataframe thead th {\n",
       "        text-align: right;\n",
       "    }\n",
       "</style>\n",
       "<table border=\"1\" class=\"dataframe\">\n",
       "  <thead>\n",
       "    <tr style=\"text-align: right;\">\n",
       "      <th></th>\n",
       "      <th>df</th>\n",
       "      <th>sum_sq</th>\n",
       "      <th>mean_sq</th>\n",
       "      <th>F</th>\n",
       "      <th>PR(&gt;F)</th>\n",
       "    </tr>\n",
       "  </thead>\n",
       "  <tbody>\n",
       "    <tr>\n",
       "      <th>C(A)</th>\n",
       "      <td>3.0</td>\n",
       "      <td>15.924583</td>\n",
       "      <td>5.308194</td>\n",
       "      <td>3.338779</td>\n",
       "      <td>0.047904</td>\n",
       "    </tr>\n",
       "    <tr>\n",
       "      <th>C(B)</th>\n",
       "      <td>5.0</td>\n",
       "      <td>42.087083</td>\n",
       "      <td>8.417417</td>\n",
       "      <td>5.294435</td>\n",
       "      <td>0.005328</td>\n",
       "    </tr>\n",
       "    <tr>\n",
       "      <th>Residual</th>\n",
       "      <td>15.0</td>\n",
       "      <td>23.847917</td>\n",
       "      <td>1.589861</td>\n",
       "      <td>NaN</td>\n",
       "      <td>NaN</td>\n",
       "    </tr>\n",
       "  </tbody>\n",
       "</table>\n",
       "</div>"
      ],
      "text/plain": [
       "            df     sum_sq   mean_sq         F    PR(>F)\n",
       "C(A)       3.0  15.924583  5.308194  3.338779  0.047904\n",
       "C(B)       5.0  42.087083  8.417417  5.294435  0.005328\n",
       "Residual  15.0  23.847917  1.589861       NaN       NaN"
      ]
     },
     "execution_count": 38,
     "metadata": {},
     "output_type": "execute_result"
    }
   ],
   "source": [
    "import statsmodels.api as sm\n",
    "import statsmodels.formula.api as smf\n",
    "\n",
    "fit = smf.ols(\"Y~C(A)+C(B)\", data).fit()\n",
    "sm.stats.anova_lm(fit, typ=1)"
   ]
  },
  {
   "cell_type": "markdown",
   "id": "cfaf2b21-0045-45fb-b5fe-54f0a7fd057a",
   "metadata": {},
   "source": [
    "예제 8.3 - 반복이 있는 이원배치분산분석\n",
    "광고효과를 측정하기 위하여 10가지 변수를 사용한다. 이 10가지 변수의 합을 광고효과 점수라고 하자.  \n",
    "어느 상품의 광고효과는 프로그램에 따라 그리고 시사 횟수에 따라 다른가를 알아보기 위해 분산분석을 수행하기로 하였다.  \n",
    "광고 효과 점수는 정규분포를 따른다는 전제하에 시사 횟수와 프로그램의 6가지 처리에 대해 각 두명씩 대상을 얻은 광고효과 점수는 다음과 같다."
   ]
  },
  {
   "cell_type": "code",
   "execution_count": 39,
   "id": "f8d668b8-6717-457c-a256-c28b6637d3c1",
   "metadata": {},
   "outputs": [
    {
     "data": {
      "text/html": [
       "<div>\n",
       "<style scoped>\n",
       "    .dataframe tbody tr th:only-of-type {\n",
       "        vertical-align: middle;\n",
       "    }\n",
       "\n",
       "    .dataframe tbody tr th {\n",
       "        vertical-align: top;\n",
       "    }\n",
       "\n",
       "    .dataframe thead th {\n",
       "        text-align: right;\n",
       "    }\n",
       "</style>\n",
       "<table border=\"1\" class=\"dataframe\">\n",
       "  <thead>\n",
       "    <tr style=\"text-align: right;\">\n",
       "      <th></th>\n",
       "      <th>program</th>\n",
       "      <th>number</th>\n",
       "      <th>y</th>\n",
       "    </tr>\n",
       "  </thead>\n",
       "  <tbody>\n",
       "    <tr>\n",
       "      <th>0</th>\n",
       "      <td>news</td>\n",
       "      <td>10</td>\n",
       "      <td>47</td>\n",
       "    </tr>\n",
       "    <tr>\n",
       "      <th>1</th>\n",
       "      <td>news</td>\n",
       "      <td>10</td>\n",
       "      <td>43</td>\n",
       "    </tr>\n",
       "    <tr>\n",
       "      <th>2</th>\n",
       "      <td>drama</td>\n",
       "      <td>10</td>\n",
       "      <td>62</td>\n",
       "    </tr>\n",
       "    <tr>\n",
       "      <th>3</th>\n",
       "      <td>drama</td>\n",
       "      <td>10</td>\n",
       "      <td>68</td>\n",
       "    </tr>\n",
       "    <tr>\n",
       "      <th>4</th>\n",
       "      <td>entertainment</td>\n",
       "      <td>10</td>\n",
       "      <td>41</td>\n",
       "    </tr>\n",
       "  </tbody>\n",
       "</table>\n",
       "</div>"
      ],
      "text/plain": [
       "         program  number   y\n",
       "0           news      10  47\n",
       "1           news      10  43\n",
       "2          drama      10  62\n",
       "3          drama      10  68\n",
       "4  entertainment      10  41"
      ]
     },
     "execution_count": 39,
     "metadata": {},
     "output_type": "execute_result"
    }
   ],
   "source": [
    "data = pd.read_csv(\"./book_data/ex8-3.csv\")\n",
    "data.head()"
   ]
  },
  {
   "cell_type": "code",
   "execution_count": 41,
   "id": "dbef5a40-a432-4047-8470-274ffcfeb655",
   "metadata": {},
   "outputs": [
    {
     "data": {
      "text/html": [
       "<div>\n",
       "<style scoped>\n",
       "    .dataframe tbody tr th:only-of-type {\n",
       "        vertical-align: middle;\n",
       "    }\n",
       "\n",
       "    .dataframe tbody tr th {\n",
       "        vertical-align: top;\n",
       "    }\n",
       "\n",
       "    .dataframe thead th {\n",
       "        text-align: right;\n",
       "    }\n",
       "</style>\n",
       "<table border=\"1\" class=\"dataframe\">\n",
       "  <thead>\n",
       "    <tr style=\"text-align: right;\">\n",
       "      <th></th>\n",
       "      <th>df</th>\n",
       "      <th>sum_sq</th>\n",
       "      <th>mean_sq</th>\n",
       "      <th>F</th>\n",
       "      <th>PR(&gt;F)</th>\n",
       "    </tr>\n",
       "  </thead>\n",
       "  <tbody>\n",
       "    <tr>\n",
       "      <th>program</th>\n",
       "      <td>2.0</td>\n",
       "      <td>1544.0</td>\n",
       "      <td>772.000000</td>\n",
       "      <td>74.709677</td>\n",
       "      <td>0.000058</td>\n",
       "    </tr>\n",
       "    <tr>\n",
       "      <th>C(number)</th>\n",
       "      <td>1.0</td>\n",
       "      <td>12.0</td>\n",
       "      <td>12.000000</td>\n",
       "      <td>1.161290</td>\n",
       "      <td>0.322605</td>\n",
       "    </tr>\n",
       "    <tr>\n",
       "      <th>program:C(number)</th>\n",
       "      <td>2.0</td>\n",
       "      <td>24.0</td>\n",
       "      <td>12.000000</td>\n",
       "      <td>1.161290</td>\n",
       "      <td>0.374697</td>\n",
       "    </tr>\n",
       "    <tr>\n",
       "      <th>Residual</th>\n",
       "      <td>6.0</td>\n",
       "      <td>62.0</td>\n",
       "      <td>10.333333</td>\n",
       "      <td>NaN</td>\n",
       "      <td>NaN</td>\n",
       "    </tr>\n",
       "  </tbody>\n",
       "</table>\n",
       "</div>"
      ],
      "text/plain": [
       "                    df  sum_sq     mean_sq          F    PR(>F)\n",
       "program            2.0  1544.0  772.000000  74.709677  0.000058\n",
       "C(number)          1.0    12.0   12.000000   1.161290  0.322605\n",
       "program:C(number)  2.0    24.0   12.000000   1.161290  0.374697\n",
       "Residual           6.0    62.0   10.333333        NaN       NaN"
      ]
     },
     "execution_count": 41,
     "metadata": {},
     "output_type": "execute_result"
    }
   ],
   "source": [
    "import statsmodels.api as sm\n",
    "import statsmodels.formula.api as smf\n",
    "\n",
    "fit = smf.ols(\"y~program+C(number)+program*C(number)\", data).fit()\n",
    "sm.stats.anova_lm(fit, typ=1)"
   ]
  },
  {
   "cell_type": "code",
   "execution_count": null,
   "id": "f2ff366b-cbcf-4756-9192-629455febed7",
   "metadata": {},
   "outputs": [],
   "source": []
  }
 ],
 "metadata": {
  "kernelspec": {
   "display_name": "adp",
   "language": "python",
   "name": "adp"
  },
  "language_info": {
   "codemirror_mode": {
    "name": "ipython",
    "version": 3
   },
   "file_extension": ".py",
   "mimetype": "text/x-python",
   "name": "python",
   "nbconvert_exporter": "python",
   "pygments_lexer": "ipython3",
   "version": "3.10.5"
  }
 },
 "nbformat": 4,
 "nbformat_minor": 5
}
